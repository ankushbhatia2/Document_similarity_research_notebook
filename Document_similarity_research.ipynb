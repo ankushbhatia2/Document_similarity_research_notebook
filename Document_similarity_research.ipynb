{
 "cells": [
  {
   "cell_type": "code",
   "execution_count": 71,
   "metadata": {},
   "outputs": [],
   "source": [
    "# import dependencies\n",
    "%matplotlib inline\n",
    "import pandas as pd\n",
    "import numpy as np\n",
    "import nltk\n",
    "from nltk.corpus import stopwords\n",
    "import gensim\n",
    "from gensim.models import LdaModel, Word2Vec\n",
    "from gensim import models, corpora, similarities\n",
    "import re\n",
    "from nltk.stem.porter import PorterStemmer\n",
    "import time\n",
    "from nltk import FreqDist\n",
    "from scipy.stats import entropy\n",
    "import matplotlib.pyplot as plt\n",
    "from matplotlib.pyplot import savefig\n",
    "import seaborn as sns\n",
    "import stop_words\n",
    "from scipy.stats import wasserstein_distance\n",
    "from pyemd import emd\n",
    "from scipy.spatial.distance import cosine\n",
    "sns.set_style(\"darkgrid\")"
   ]
  },
  {
   "cell_type": "markdown",
   "metadata": {},
   "source": [
    "### Data Import"
   ]
  },
  {
   "cell_type": "code",
   "execution_count": 3,
   "metadata": {},
   "outputs": [
    {
     "data": {
      "text/html": [
       "<div>\n",
       "<style>\n",
       "    .dataframe thead tr:only-child th {\n",
       "        text-align: right;\n",
       "    }\n",
       "\n",
       "    .dataframe thead th {\n",
       "        text-align: left;\n",
       "    }\n",
       "\n",
       "    .dataframe tbody tr th {\n",
       "        vertical-align: top;\n",
       "    }\n",
       "</style>\n",
       "<table border=\"1\" class=\"dataframe\">\n",
       "  <thead>\n",
       "    <tr style=\"text-align: right;\">\n",
       "      <th></th>\n",
       "      <th>uuid</th>\n",
       "      <th>author</th>\n",
       "      <th>title</th>\n",
       "      <th>text</th>\n",
       "      <th>language</th>\n",
       "      <th>site_url</th>\n",
       "      <th>country</th>\n",
       "    </tr>\n",
       "  </thead>\n",
       "  <tbody>\n",
       "    <tr>\n",
       "      <th>0</th>\n",
       "      <td>f5ec7f2d360edd9124583e0251903777341849fb</td>\n",
       "      <td>Arnaldo Rodgers</td>\n",
       "      <td>Donald Trump Tells Veterans He’s ‘Financially ...</td>\n",
       "      <td>Donald Trump Tells Veterans He’s ‘Financiall...</td>\n",
       "      <td>english</td>\n",
       "      <td>veteransnewsnow.com</td>\n",
       "      <td>US</td>\n",
       "    </tr>\n",
       "    <tr>\n",
       "      <th>1</th>\n",
       "      <td>a191d7fa744b81a57ad65cbe5ef482d9cd2b228b</td>\n",
       "      <td>DavidSwanson</td>\n",
       "      <td>Hurricane Donald and the Storms of Changing Cl...</td>\n",
       "      <td>Posted on November 10, 2016 by DavidSwanson \\n...</td>\n",
       "      <td>english</td>\n",
       "      <td>washingtonsblog.com</td>\n",
       "      <td>US</td>\n",
       "    </tr>\n",
       "    <tr>\n",
       "      <th>2</th>\n",
       "      <td>48ed7ee6e668ecfecfbe59144d8b4192d9bd7474</td>\n",
       "      <td>Activist Post</td>\n",
       "      <td>Police Caught Spying on Journalists to Uncover...</td>\n",
       "      <td>By Chris “Kikila” Perrin In what can only be d...</td>\n",
       "      <td>english</td>\n",
       "      <td>activistpost.com</td>\n",
       "      <td>US</td>\n",
       "    </tr>\n",
       "    <tr>\n",
       "      <th>3</th>\n",
       "      <td>1adcaa9c120f8c897114d161b7dd6f35e5d22d71</td>\n",
       "      <td>Charles Hugh Smith</td>\n",
       "      <td>“Nothing Good Can Come of This Election”–and T...</td>\n",
       "      <td>\\nWe the citizens and voters have to stop bein...</td>\n",
       "      <td>english</td>\n",
       "      <td>thedailysheeple.com</td>\n",
       "      <td>US</td>\n",
       "    </tr>\n",
       "    <tr>\n",
       "      <th>4</th>\n",
       "      <td>af80ee8824610c200499795879eabd3fc54ea134</td>\n",
       "      <td>WashingtonsBlog</td>\n",
       "      <td>Live Report from Dakota Access Pipeline Protest</td>\n",
       "      <td>Lincoln \\nOctober 31, 2016 – STANDING ROCK SIO...</td>\n",
       "      <td>english</td>\n",
       "      <td>washingtonsblog.com</td>\n",
       "      <td>US</td>\n",
       "    </tr>\n",
       "  </tbody>\n",
       "</table>\n",
       "</div>"
      ],
      "text/plain": [
       "                                       uuid              author  \\\n",
       "0  f5ec7f2d360edd9124583e0251903777341849fb     Arnaldo Rodgers   \n",
       "1  a191d7fa744b81a57ad65cbe5ef482d9cd2b228b        DavidSwanson   \n",
       "2  48ed7ee6e668ecfecfbe59144d8b4192d9bd7474       Activist Post   \n",
       "3  1adcaa9c120f8c897114d161b7dd6f35e5d22d71  Charles Hugh Smith   \n",
       "4  af80ee8824610c200499795879eabd3fc54ea134     WashingtonsBlog   \n",
       "\n",
       "                                               title  \\\n",
       "0  Donald Trump Tells Veterans He’s ‘Financially ...   \n",
       "1  Hurricane Donald and the Storms of Changing Cl...   \n",
       "2  Police Caught Spying on Journalists to Uncover...   \n",
       "3  “Nothing Good Can Come of This Election”–and T...   \n",
       "4    Live Report from Dakota Access Pipeline Protest   \n",
       "\n",
       "                                                text language  \\\n",
       "0    Donald Trump Tells Veterans He’s ‘Financiall...  english   \n",
       "1  Posted on November 10, 2016 by DavidSwanson \\n...  english   \n",
       "2  By Chris “Kikila” Perrin In what can only be d...  english   \n",
       "3  \\nWe the citizens and voters have to stop bein...  english   \n",
       "4  Lincoln \\nOctober 31, 2016 – STANDING ROCK SIO...  english   \n",
       "\n",
       "              site_url country  \n",
       "0  veteransnewsnow.com      US  \n",
       "1  washingtonsblog.com      US  \n",
       "2     activistpost.com      US  \n",
       "3  thedailysheeple.com      US  \n",
       "4  washingtonsblog.com      US  "
      ]
     },
     "execution_count": 3,
     "metadata": {},
     "output_type": "execute_result"
    }
   ],
   "source": [
    "filepath = \"data/fake.csv\"\n",
    "df = pd.read_csv(filepath, usecols = ['uuid','author','title','text','language','site_url','country'])\n",
    "df = df[df.language == 'english']\n",
    "df = df[df['text'].map(type) == str]\n",
    "df['title'].fillna(value=\"\", inplace=True)\n",
    "df.dropna(axis=0, inplace=True, subset=['text'])\n",
    "# shuffle the data\n",
    "df = df.sample(frac=1.0)\n",
    "df.reset_index(drop=True,inplace=True)\n",
    "df.head()"
   ]
  },
  {
   "cell_type": "code",
   "execution_count": 4,
   "metadata": {},
   "outputs": [],
   "source": [
    "def initial_clean(text):\n",
    "    text = re.sub(\"((\\S+)?(http(s)?)(\\S+))|((\\S+)?(www)(\\S+))|((\\S+)?(\\@)(\\S+)?)\", \" \", text)\n",
    "    text = re.sub(\"[^a-zA-Z ]\", \"\", text)\n",
    "    text = text.lower() # lower case the text\n",
    "    text = nltk.word_tokenize(text)\n",
    "    return text\n",
    "\n",
    "stop_words = stop_words.get_stop_words('english')\n",
    "def remove_stop_words(text):\n",
    "    return [word for word in text if word not in stop_words]\n",
    "\n",
    "stemmer = PorterStemmer()\n",
    "def stem_words(text):\n",
    "    try:\n",
    "        text = [stemmer.stem(word) for word in text]\n",
    "        text = [word for word in text if len(word) > 1] # make sure we have no 1 letter words\n",
    "    except IndexError: # the word \"oed\" broke this, so needed try except\n",
    "        pass\n",
    "    return text\n",
    "\n",
    "def apply_all(text):\n",
    "    return stem_words(remove_stop_words(initial_clean(text)))"
   ]
  },
  {
   "cell_type": "code",
   "execution_count": 5,
   "metadata": {},
   "outputs": [
    {
     "name": "stdout",
     "output_type": "stream",
     "text": [
      "('Time to clean and tokenize', 12357, 'articles:', 5.393310232957204, 'min')\n"
     ]
    }
   ],
   "source": [
    "# clean text and title and create new column \"tokenized\"\n",
    "#%time\n",
    "t1 = time.time()\n",
    "df['tokenized'] = df['text'].apply(apply_all) + df['title'].apply(apply_all)\n",
    "t2 = time.time()\n",
    "print(\"Time to clean and tokenize\", len(df), \"articles:\", (t2-t1)/60, \"min\")"
   ]
  },
  {
   "cell_type": "code",
   "execution_count": 6,
   "metadata": {},
   "outputs": [
    {
     "data": {
      "text/plain": [
       "96283"
      ]
     },
     "execution_count": 6,
     "metadata": {},
     "output_type": "execute_result"
    }
   ],
   "source": [
    "# first get a list of all words\n",
    "all_words = [word for item in df['tokenized'].tolist() for word in item]\n",
    "# use nltk fdist to get a frequency distribution of all words\n",
    "fdist = FreqDist(all_words)\n",
    "len(fdist) # number of unique words"
   ]
  },
  {
   "cell_type": "code",
   "execution_count": 7,
   "metadata": {},
   "outputs": [
    {
     "data": {
      "text/plain": [
       "[(u'plasticin', 1),\n",
       " ('neverbut', 1),\n",
       " ('samadhi', 1),\n",
       " ('defencechristina', 1),\n",
       " (u'handtoey', 1),\n",
       " (u'respectabilityperhap', 1),\n",
       " ('naham', 1),\n",
       " ('trianglemr', 1),\n",
       " ('asno', 1),\n",
       " ('pedophila', 1)]"
      ]
     },
     "execution_count": 7,
     "metadata": {},
     "output_type": "execute_result"
    }
   ],
   "source": [
    "# choose k and visually inspect the bottom 10 words of the top k\n",
    "k = 50000\n",
    "top_k_words = fdist.most_common(k)\n",
    "top_k_words[-10:]"
   ]
  },
  {
   "cell_type": "code",
   "execution_count": 8,
   "metadata": {},
   "outputs": [
    {
     "data": {
      "text/plain": [
       "[(u'peacetim', 13),\n",
       " (u'inconsol', 13),\n",
       " ('nikita', 13),\n",
       " (u'ith', 13),\n",
       " (u'megalith', 13),\n",
       " ('fatherson', 13),\n",
       " (u'bilingu', 13),\n",
       " ('postcivil', 13),\n",
       " (u'blot', 13),\n",
       " (u'psychoanalysi', 13)]"
      ]
     },
     "execution_count": 8,
     "metadata": {},
     "output_type": "execute_result"
    }
   ],
   "source": [
    "# choose k and visually inspect the bottom 10 words of the top k\n",
    "k = 15000\n",
    "top_k_words = fdist.most_common(k)\n",
    "top_k_words[-10:]"
   ]
  },
  {
   "cell_type": "code",
   "execution_count": 9,
   "metadata": {},
   "outputs": [],
   "source": [
    "# define a function only to keep words in the top k words\n",
    "top_k_words,_ = zip(*fdist.most_common(k))\n",
    "top_k_words = set(top_k_words)\n",
    "def keep_top_k_words(text):\n",
    "    return [word for word in text if word in top_k_words]"
   ]
  },
  {
   "cell_type": "code",
   "execution_count": 10,
   "metadata": {},
   "outputs": [],
   "source": [
    "df['tokenized'] = df['tokenized'].apply(keep_top_k_words)"
   ]
  },
  {
   "cell_type": "code",
   "execution_count": 11,
   "metadata": {},
   "outputs": [
    {
     "name": "stdout",
     "output_type": "stream",
     "text": [
      "('length of list:', 12357, 'average document length', 349.3714493809177, 'minimum document length', 0, 'maximum document length', 11839)\n"
     ]
    }
   ],
   "source": [
    "# document length\n",
    "doc_lengths = df['tokenized'].apply(lambda x: len(x)).tolist()\n",
    "\n",
    "#df.drop(labels='doc_len', axis=1, inplace=True)\n",
    "\n",
    "print(\"length of list:\",len(doc_lengths),\n",
    "      \"average document length\", np.average(doc_lengths),\n",
    "      \"minimum document length\", min(doc_lengths),\n",
    "      \"maximum document length\", max(doc_lengths))"
   ]
  },
  {
   "cell_type": "code",
   "execution_count": 12,
   "metadata": {},
   "outputs": [
    {
     "data": {
      "image/png": "[encoded data removed]",
      "text/plain": [
       "<matplotlib.figure.Figure at 0x11e5ede10>"
      ]
     },
     "metadata": {},
     "output_type": "display_data"
    }
   ],
   "source": [
    "# plot a histogram of document length\n",
    "num_bins = 1000\n",
    "fig, ax = plt.subplots(figsize=(12,6));\n",
    "# the histogram of the data\n",
    "n, bins, patches = ax.hist(doc_lengths, num_bins, normed=1)\n",
    "ax.set_xlabel('Document Length (tokens)', fontsize=15)\n",
    "ax.set_ylabel('Normed Frequency', fontsize=15)\n",
    "ax.grid()\n",
    "ax.set_xticks(np.logspace(start=np.log10(50),stop=np.log10(2000),num=8, base=10.0))\n",
    "plt.xlim(0,2000)\n",
    "ax.plot([np.average(doc_lengths) for i in np.linspace(0.0,0.0035,100)], np.linspace(0.0,0.0035,100), '-',\n",
    "        label='average doc length')\n",
    "ax.legend()\n",
    "ax.grid()\n",
    "fig.tight_layout()\n",
    "plt.show()"
   ]
  },
  {
   "cell_type": "code",
   "execution_count": 13,
   "metadata": {},
   "outputs": [
    {
     "name": "stdout",
     "output_type": "stream",
     "text": [
      "('After cleaning and excluding short aticles, the dataframe now has:', 10835, 'articles')\n"
     ]
    }
   ],
   "source": [
    "# only keep articles with more than 30 tokens, otherwise too short\n",
    "df = df[df['tokenized'].map(len) >= 40]\n",
    "# make sure all tokenized items are lists\n",
    "df = df[df['tokenized'].map(type) == list]\n",
    "df.reset_index(drop=True,inplace=True)\n",
    "print(\"After cleaning and excluding short aticles, the dataframe now has:\", len(df), \"articles\")"
   ]
  },
  {
   "cell_type": "code",
   "execution_count": 14,
   "metadata": {},
   "outputs": [
    {
     "data": {
      "text/plain": [
       "array([ True,  True,  True, ...,  True,  True,  True])"
      ]
     },
     "execution_count": 14,
     "metadata": {},
     "output_type": "execute_result"
    }
   ],
   "source": [
    "# create a mask of binary values\n",
    "msk = np.random.rand(len(df)) < 0.999\n",
    "msk"
   ]
  },
  {
   "cell_type": "code",
   "execution_count": 15,
   "metadata": {},
   "outputs": [],
   "source": [
    "train_df = df[msk]\n",
    "train_df.reset_index(drop=True,inplace=True)\n",
    "\n",
    "test_df = df[~msk]\n",
    "test_df.reset_index(drop=True,inplace=True)"
   ]
  },
  {
   "cell_type": "code",
   "execution_count": 16,
   "metadata": {},
   "outputs": [
    {
     "name": "stdout",
     "output_type": "stream",
     "text": [
      "(10835, 10824, 11)\n"
     ]
    }
   ],
   "source": [
    "print(len(df),len(train_df),len(test_df))"
   ]
  },
  {
   "cell_type": "code",
   "execution_count": 17,
   "metadata": {},
   "outputs": [],
   "source": [
    "def train_lda(data):\n",
    "    \"\"\"\n",
    "    This function trains the lda model\n",
    "    We setup parameters like number of topics, the chunksize to use in Hoffman method\n",
    "    We also do 2 passes of the data since this is a small dataset, so we want the distributions to stabilize\n",
    "    \"\"\"\n",
    "    num_topics = 100\n",
    "    chunksize = 300\n",
    "    dictionary = corpora.Dictionary(data['tokenized'])\n",
    "    corpus = [dictionary.doc2bow(doc) for doc in data['tokenized']]\n",
    "    t1 = time.time()\n",
    "    # low alpha means each document is only represented by a small number of topics, and vice versa\n",
    "    # low eta means each topic is only represented by a small number of words, and vice versa\n",
    "    lda = LdaModel(corpus=corpus, num_topics=num_topics, id2word=dictionary,\n",
    "                   alpha=1e-2, eta=0.5e-2, chunksize=chunksize, minimum_probability=0.0, passes=2)\n",
    "    t2 = time.time()\n",
    "    print(\"Time to train LDA model on \", len(df), \"articles: \", (t2-t1)/60, \"min\")\n",
    "    return dictionary,corpus,lda"
   ]
  },
  {
   "cell_type": "code",
   "execution_count": 18,
   "metadata": {},
   "outputs": [
    {
     "name": "stderr",
     "output_type": "stream",
     "text": [
      "/usr/local/lib/python2.7/site-packages/gensim/models/ldamodel.py:1023: RuntimeWarning: divide by zero encountered in log\n",
      "  diff = np.log(self.expElogbeta)\n"
     ]
    },
    {
     "name": "stdout",
     "output_type": "stream",
     "text": [
      "('Time to train LDA model on ', 10835, 'articles: ', 1.4902590314547222, 'min')\n"
     ]
    }
   ],
   "source": [
    "dictionary,corpus,lda = train_lda(train_df)"
   ]
  },
  {
   "cell_type": "code",
   "execution_count": 19,
   "metadata": {},
   "outputs": [
    {
     "data": {
      "text/plain": [
       "[(27,\n",
       "  u'0.138*\"mr\" + 0.054*\"agent\" + 0.043*\"foundat\" + 0.036*\"investig\" + 0.030*\"depart\" + 0.028*\"justic\" + 0.023*\"offici\" + 0.023*\"said\" + 0.022*\"fbi\" + 0.016*\"corrupt\" + 0.015*\"case\" + 0.014*\"offic\" + 0.014*\"probe\" + 0.014*\"doj\" + 0.013*\"deputi\" + 0.012*\"governor\" + 0.011*\"clinton\" + 0.011*\"peopl\" + 0.011*\"senior\" + 0.011*\"interview\"'),\n",
       " (4,\n",
       "  u'0.061*\"energi\" + 0.040*\"moon\" + 0.039*\"light\" + 0.036*\"power\" + 0.036*\"sun\" + 0.032*\"planet\" + 0.031*\"space\" + 0.024*\"electr\" + 0.024*\"univers\" + 0.023*\"star\" + 0.022*\"solar\" + 0.020*\"earth\" + 0.017*\"signal\" + 0.015*\"system\" + 0.015*\"cosmic\" + 0.015*\"hole\" + 0.014*\"sky\" + 0.014*\"hayden\" + 0.013*\"grid\" + 0.012*\"wind\"'),\n",
       " (18,\n",
       "  u'0.030*\"michel\" + 0.024*\"presidenti\" + 0.020*\"biden\" + 0.020*\"tim\" + 0.020*\"nation\" + 0.017*\"vice\" + 0.017*\"reportedli\" + 0.016*\"thursday\" + 0.016*\"onion\" + 0.015*\"kain\" + 0.015*\"nuclear\" + 0.015*\"day\" + 0.013*\"sourc\" + 0.013*\"joe\" + 0.012*\"report\" + 0.012*\"virginia\" + 0.012*\"america\" + 0.012*\"button\" + 0.012*\"night\" + 0.012*\"democrat\"'),\n",
       " (8,\n",
       "  u'0.023*\"play\" + 0.019*\"game\" + 0.017*\"team\" + 0.014*\"stori\" + 0.012*\"show\" + 0.012*\"music\" + 0.011*\"said\" + 0.009*\"voic\" + 0.009*\"night\" + 0.009*\"player\" + 0.008*\"world\" + 0.008*\"art\" + 0.008*\"morn\" + 0.008*\"perform\" + 0.008*\"song\" + 0.007*\"host\" + 0.007*\"languag\" + 0.007*\"inspir\" + 0.007*\"win\" + 0.007*\"time\"'),\n",
       " (31,\n",
       "  u'0.101*\"film\" + 0.068*\"movi\" + 0.056*\"plane\" + 0.043*\"watch\" + 0.043*\"travel\" + 0.034*\"screen\" + 0.020*\"footag\" + 0.019*\"minut\" + 0.019*\"pilot\" + 0.019*\"camera\" + 0.018*\"episod\" + 0.017*\"daniel\" + 0.016*\"crash\" + 0.016*\"bird\" + 0.015*\"selfdefens\" + 0.013*\"murder\" + 0.012*\"drone\" + 0.012*\"killer\" + 0.011*\"kill\" + 0.011*\"filmmak\"'),\n",
       " (74,\n",
       "  u'0.123*\"gun\" + 0.090*\"north\" + 0.083*\"weapon\" + 0.054*\"korea\" + 0.040*\"korean\" + 0.038*\"ship\" + 0.032*\"south\" + 0.031*\"arm\" + 0.026*\"firearm\" + 0.021*\"fish\" + 0.017*\"kim\" + 0.016*\"coast\" + 0.015*\"boat\" + 0.015*\"bear\" + 0.014*\"ecuador\" + 0.013*\"use\" + 0.013*\"indiscrimin\" + 0.012*\"carri\" + 0.012*\"control\" + 0.012*\"blair\"'),\n",
       " (3,\n",
       "  u'0.042*\"us\" + 0.021*\"gener\" + 0.015*\"new\" + 0.014*\"robert\" + 0.012*\"john\" + 0.012*\"former\" + 0.012*\"polici\" + 0.012*\"american\" + 0.012*\"york\" + 0.010*\"paul\" + 0.009*\"nation\" + 0.008*\"washington\" + 0.008*\"state\" + 0.008*\"presstitut\" + 0.008*\"david\" + 0.007*\"wrote\" + 0.007*\"stephen\" + 0.007*\"outpost\" + 0.007*\"associ\" + 0.006*\"secretari\"'),\n",
       " (49,\n",
       "  u'0.040*\"goldman\" + 0.037*\"speech\" + 0.036*\"sach\" + 0.034*\"warren\" + 0.031*\"max\" + 0.023*\"politico\" + 0.020*\"ghost\" + 0.017*\"polit\" + 0.016*\"parallel\" + 0.014*\"wall\" + 0.013*\"ceo\" + 0.013*\"elizabeth\" + 0.013*\"wrongdo\" + 0.011*\"good\" + 0.011*\"interest\" + 0.010*\"street\" + 0.010*\"moral\" + 0.010*\"charl\" + 0.009*\"deliv\" + 0.009*\"wing\"'),\n",
       " (6,\n",
       "  u'0.102*\"hous\" + 0.029*\"lynch\" + 0.023*\"white\" + 0.022*\"tpp\" + 0.019*\"free\" + 0.017*\"matthew\" + 0.015*\"gener\" + 0.014*\"congress\" + 0.013*\"iran\" + 0.013*\"lawmak\" + 0.012*\"egyptian\" + 0.010*\"loretta\" + 0.010*\"secret\" + 0.010*\"gop\" + 0.009*\"dept\" + 0.009*\"egypt\" + 0.009*\"republican\" + 0.009*\"beacon\" + 0.009*\"effort\" + 0.008*\"deal\"'),\n",
       " (1,\n",
       "  u'0.090*\"obama\" + 0.018*\"presid\" + 0.016*\"white\" + 0.010*\"us\" + 0.010*\"new\" + 0.010*\"administr\" + 0.010*\"barack\" + 0.008*\"hous\" + 0.008*\"like\" + 0.007*\"state\" + 0.006*\"bee\" + 0.005*\"american\" + 0.005*\"will\" + 0.004*\"offer\" + 0.004*\"gore\" + 0.004*\"america\" + 0.004*\"plan\" + 0.004*\"look\" + 0.004*\"execut\" + 0.004*\"govern\"')]"
      ]
     },
     "execution_count": 19,
     "metadata": {},
     "output_type": "execute_result"
    }
   ],
   "source": [
    "# show_topics method shows the the top num_words contributing to num_topics number of random topics\n",
    "lda.show_topics(num_topics=10, num_words=20)"
   ]
  },
  {
   "cell_type": "code",
   "execution_count": 20,
   "metadata": {},
   "outputs": [
    {
     "data": {
      "text/plain": [
       "[(u'warn', 0.12986581),\n",
       " (u'post', 0.08443546),\n",
       " (u'note', 0.07766964),\n",
       " (u'new', 0.07231721),\n",
       " (u'announc', 0.06325758),\n",
       " (u'channel', 0.033478495),\n",
       " (u'subscrib', 0.030003393),\n",
       " (u'expect', 0.027299635),\n",
       " (u'line', 0.024634304),\n",
       " (u'address', 0.019614775),\n",
       " (u'comment', 0.019322276),\n",
       " (u'competitor', 0.017750554),\n",
       " (u'blog', 0.016977698),\n",
       " (u'show', 0.016456997),\n",
       " (u'via', 0.015632266),\n",
       " (u'pleas', 0.015158135),\n",
       " (u'notifi', 0.013987406),\n",
       " (u'struck', 0.012038441),\n",
       " (u'report', 0.011223259),\n",
       " (u'tweet', 0.010290799)]"
      ]
     },
     "execution_count": 20,
     "metadata": {},
     "output_type": "execute_result"
    }
   ],
   "source": [
    "lda.show_topic(topicid=40, topn=20)"
   ]
  },
  {
   "cell_type": "code",
   "execution_count": 96,
   "metadata": {},
   "outputs": [
    {
     "name": "stdout",
     "output_type": "stream",
     "text": [
      "8127\n"
     ]
    }
   ],
   "source": [
    "random_article_index = np.random.randint(len(train_df))\n",
    "bow = dictionary.doc2bow(train_df.iloc[random_article_index,7])\n",
    "print(random_article_index)"
   ]
  },
  {
   "cell_type": "code",
   "execution_count": 97,
   "metadata": {
    "scrolled": true
   },
   "outputs": [
    {
     "name": "stdout",
     "output_type": "stream",
     "text": [
      "Getty - Saul Loeb/AFP The Wildfire is an opinion platform and any opinions or information put forth by contributors are exclusive to them and do not represent the views of IJR. \n",
      "Sean Hannity took to the radio on Wednesday and was upfront about how he really feels about conservatives who refuse to vote for Trump. \n",
      "He kicked off his explosive rant by telling his listeners that he's “pissed,” and said: \n",
      "\"In 13 freaking days, we are either going to make a decision to keep screwing the country up or we are going to try and fix it. That's what's at stake here. \n",
      "You want to get 95 million Americans back to work, you want to get the economy going, you want a president that has the courage to say 'radical Islam.' \n",
      "You want to not bring in refugees from countries that have laws that are the antithesis of our constitutional values. \n",
      "You want to control the borders, you want become energy independent, you want to eliminate Obamacare, you want to fix are dilapidated piece of crap educational system, this is your chance.\" \n",
      "Then, he went nuclear on the “Never Trump” movement. \n",
      "You can listen to Hannity's full rant, below : \n"
     ]
    }
   ],
   "source": [
    "print(train_df.iloc[random_article_index,3])"
   ]
  },
  {
   "cell_type": "code",
   "execution_count": 98,
   "metadata": {},
   "outputs": [],
   "source": [
    "# get the topic contributions for the document chosen at random above\n",
    "doc_distribution = np.array([tup[1] for tup in lda.get_document_topics(bow=bow)])"
   ]
  },
  {
   "cell_type": "code",
   "execution_count": 103,
   "metadata": {},
   "outputs": [
    {
     "data": {
      "image/png": "[encoded data removed]",
      "text/plain": [
       "<matplotlib.figure.Figure at 0x10ac99d50>"
      ]
     },
     "metadata": {},
     "output_type": "display_data"
    }
   ],
   "source": [
    "# bar plot of topic distribution for this document\n",
    "fig, ax = plt.subplots(figsize=(12,6));\n",
    "# the histogram of the data\n",
    "patches = ax.bar(np.arange(len(doc_distribution)), doc_distribution)\n",
    "ax.set_xlabel('Topic ID', fontsize=15)\n",
    "ax.set_ylabel('Topic Contribution', fontsize=15)\n",
    "ax.set_title(\"Topic Distribution for Article \" + str(random_article_index), fontsize=20)\n",
    "ax.set_xticks(np.linspace(10,100,10))\n",
    "fig.tight_layout()\n",
    "plt.savefig(\"/Users/ankushbhatia/personal/seen.png\")"
   ]
  },
  {
   "cell_type": "code",
   "execution_count": 25,
   "metadata": {},
   "outputs": [
    {
     "name": "stdout",
     "output_type": "stream",
     "text": [
      "(96, [(u'clinton', 0.15038684), (u'hillari', 0.06976869), (u'campaign', 0.036968004), (u'email', 0.031878695), (u'podesta', 0.021643208), (u'wikileak', 0.013405528), (u'presidenti', 0.010425213), (u'state', 0.008675588), (u'secretari', 0.008315119), (u'presid', 0.008275844)], '\\n')\n",
      "(3, [(u'us', 0.041608747), (u'gener', 0.020820163), (u'new', 0.014734904), (u'robert', 0.014168026), (u'john', 0.01237185), (u'former', 0.012253655), (u'polici', 0.012245725), (u'american', 0.012076125), (u'york', 0.011915496), (u'paul', 0.009620263)], '\\n')\n",
      "(21, [(u'climat', 0.017807623), (u'research', 0.017516196), (u'year', 0.013064853), (u'scientist', 0.012051121), (u'chang', 0.012041455), (u'scienc', 0.009962453), (u'studi', 0.0090091415), (u'sourc', 0.008153695), (u'publish', 0.007897473), (u'report', 0.0078111095)], '\\n')\n",
      "(59, [(u'fbi', 0.07040532), (u'investig', 0.054267384), (u'comey', 0.05063615), (u'elect', 0.026825422), (u'letter', 0.026576685), (u'director', 0.020009888), (u'jame', 0.016316893), (u'guccif', 0.014831571), (u'clinton', 0.0091167865), (u'congress', 0.009050198)], '\\n')\n",
      "(56, [(u'charg', 0.024243614), (u'feder', 0.02043059), (u'case', 0.020211307), (u'attorney', 0.017610116), (u'said', 0.014056056), (u'guilti', 0.013092594), (u'bundi', 0.012565545), (u'judg', 0.011514171), (u'juri', 0.0103879785), (u'wildlif', 0.009851734)], '\\n')\n"
     ]
    }
   ],
   "source": [
    "# print the top 5 contributing topics and their words\n",
    "for i in doc_distribution.argsort()[-5:][::-1]:\n",
    "    print(i, lda.show_topic(topicid=i, topn=10), \"\\n\")"
   ]
  },
  {
   "cell_type": "code",
   "execution_count": 30,
   "metadata": {},
   "outputs": [
    {
     "name": "stdout",
     "output_type": "stream",
     "text": [
      "1\n"
     ]
    }
   ],
   "source": [
    "# select and article at random from test_df\n",
    "random_article_index = np.random.randint(len(test_df))\n",
    "print(random_article_index)\n",
    "#random_article_index = 11"
   ]
  },
  {
   "cell_type": "code",
   "execution_count": 31,
   "metadata": {},
   "outputs": [],
   "source": [
    "new_bow = dictionary.doc2bow(test_df.iloc[random_article_index,7])"
   ]
  },
  {
   "cell_type": "code",
   "execution_count": 64,
   "metadata": {},
   "outputs": [
    {
     "name": "stdout",
     "output_type": "stream",
     "text": [
      "If Hillary wants to know what new information the FBI has, Sharyl Attkisson knows someone she could ask Posted at 4:34 pm on October 29, 2016 by Brett T. Share on Facebook Share on Twitter \n",
      "As Twitchy reported, Hillary Clinton held a brief press conference Friday to address news that the FBI had found — in the process of investigating Anthony Weiner’s alleged sexting of a 15-year-old girl — new emails that warranted further investigation into her own email scandal. \n",
      "Obviously not pleased by this latest development, Clinton called on the FBI to release whatever it had. Hillary Clinton: \"We don't know the facts, which is why we're calling on the FBI to release all the information it has … let’s get it out.\" \n",
      "— New York Post (@nypost) October 28, 2016 \n",
      "Despite that not being how FBI investigations work, Hillary’s call for the FBI to lay its cards on the table inspired Sharyl Attkisson of Full Measure News to make a simple suggestion: There's no mystery as to what's in the Huma Abedin emails–to Huma. She can fill in the Hillary campaign. \n",
      "— Sharyl Attkisson (@SharylAttkisson) October 29, 2016 \n",
      "What didn’t Hillary think of that? Abedin is right there with her on board her campaign plane — it’s not like she’s hard to track down. Unless, of course, neither one can recall what they wrote to each other. It happens. More than 1,000 potentially relevant emails found on Weiner computer, including some between Huma and HRC. https://t.co/hVHL61vqrk \n",
      "— Rosalind Helderman (@PostRoz) October 28, 2016 @SharylAttkisson @RobbyMook can bring them when he's on @FoxNewsSunday and clear this all up.\n"
     ]
    }
   ],
   "source": [
    "print(test_df.iloc[random_article_index,3])"
   ]
  },
  {
   "cell_type": "code",
   "execution_count": 33,
   "metadata": {},
   "outputs": [],
   "source": [
    "new_doc_distribution = np.array([tup[1] for tup in lda.get_document_topics(bow=new_bow)])\n",
    "#new_doc_distribution = doc_topic_dist[1271]"
   ]
  },
  {
   "cell_type": "code",
   "execution_count": 74,
   "metadata": {},
   "outputs": [
    {
     "data": {
      "image/png": "[encoded data removed]",
      "text/plain": [
       "<matplotlib.figure.Figure at 0x1279f5590>"
      ]
     },
     "metadata": {},
     "output_type": "display_data"
    }
   ],
   "source": [
    "#Let's do the same visual analysis as before on this new unseen document\n",
    "\n",
    "# bar plot of topic distribution for this document\n",
    "fig, ax = plt.subplots(figsize=(12,6));\n",
    "# the histogram of the data\n",
    "patches = ax.bar(np.arange(len(new_doc_distribution)), new_doc_distribution)\n",
    "ax.set_xlabel('Topic ID', fontsize=15)\n",
    "ax.set_ylabel('Topic Contribution', fontsize=15)\n",
    "ax.set_title(\"Topic Distribution for an Unseen Article\", fontsize=20)\n",
    "ax.set_xticks(np.linspace(10,100,10))\n",
    "fig.tight_layout()\n",
    "plt.savefig(\"/Users/ankushbhatia/personal/unseen.png\")"
   ]
  },
  {
   "cell_type": "code",
   "execution_count": 35,
   "metadata": {},
   "outputs": [
    {
     "name": "stdout",
     "output_type": "stream",
     "text": [
      "(88, [(u'email', 0.08811211), (u'fbi', 0.03897553), (u'investig', 0.023174088), (u'weiner', 0.022089763), (u'huma', 0.019996963), (u'abedin', 0.018895995), (u'server', 0.018070191), (u'clinton', 0.017246468), (u'inform', 0.016382504), (u'new', 0.014548894)], '\\n')\n",
      "(62, [(u'peopl', 0.021068325), (u'know', 0.019498106), (u'just', 0.019417021), (u'go', 0.018645955), (u'like', 0.017930241), (u'say', 0.016793415), (u'dont', 0.01635791), (u'think', 0.015671082), (u'get', 0.015182478), (u'want', 0.012638879)], '\\n')\n",
      "(96, [(u'clinton', 0.15038684), (u'hillari', 0.06976869), (u'campaign', 0.036968004), (u'email', 0.031878695), (u'podesta', 0.021643208), (u'wikileak', 0.013405528), (u'presidenti', 0.010425213), (u'state', 0.008675588), (u'secretari', 0.008315119), (u'presid', 0.008275844)], '\\n')\n",
      "(17, [(u'report', 0.03885602), (u'said', 0.03253058), (u'meet', 0.022208722), (u'told', 0.014504141), (u'call', 0.0134609435), (u'accord', 0.012909123), (u'also', 0.01175181), (u'presid', 0.010865378), (u'account', 0.010736045), (u'depart', 0.009805779)], '\\n')\n",
      "(59, [(u'fbi', 0.07040532), (u'investig', 0.054267384), (u'comey', 0.05063615), (u'elect', 0.026825422), (u'letter', 0.026576685), (u'director', 0.020009888), (u'jame', 0.016316893), (u'guccif', 0.014831571), (u'clinton', 0.0091167865), (u'congress', 0.009050198)], '\\n')\n"
     ]
    }
   ],
   "source": [
    "# print the top 8 contributing topics and their words\n",
    "for i in new_doc_distribution.argsort()[-5:][::-1]:\n",
    "    print(i, lda.show_topic(topicid=i, topn=10), \"\\n\")"
   ]
  },
  {
   "cell_type": "code",
   "execution_count": 36,
   "metadata": {},
   "outputs": [
    {
     "data": {
      "text/plain": [
       "(10824, 100)"
      ]
     },
     "execution_count": 36,
     "metadata": {},
     "output_type": "execute_result"
    }
   ],
   "source": [
    "# we need to use nested list comprehension here\n",
    "# this may take 1-2 minutes...\n",
    "doc_topic_dist = np.array([[tup[1] for tup in lst] for lst in lda[corpus]])\n",
    "doc_topic_dist.shape"
   ]
  },
  {
   "cell_type": "code",
   "execution_count": 40,
   "metadata": {},
   "outputs": [],
   "source": [
    "topics = lda.print_topics(num_topics=100, num_words=10)"
   ]
  },
  {
   "cell_type": "code",
   "execution_count": 41,
   "metadata": {},
   "outputs": [],
   "source": [
    "M = []\n",
    "for i in topics:\n",
    "    tops = i[1].split('+')\n",
    "    M.append([(float(j.split('*')[0]), j.split('*')[1].strip().strip('\"')) for j in tops])"
   ]
  },
  {
   "cell_type": "code",
   "execution_count": 42,
   "metadata": {},
   "outputs": [],
   "source": [
    "unique_words = set()\n",
    "for i in M:\n",
    "    for prob, word in i:\n",
    "        unique_words.add(word)\n",
    "unique_words = list(unique_words)"
   ]
  },
  {
   "cell_type": "code",
   "execution_count": 43,
   "metadata": {},
   "outputs": [],
   "source": [
    "topic_matrix = np.zeros((len(M), len(unique_words)), dtype=np.float64)"
   ]
  },
  {
   "cell_type": "code",
   "execution_count": 44,
   "metadata": {},
   "outputs": [],
   "source": [
    "for ind, i in enumerate(M):\n",
    "    for prob, word in i:\n",
    "        topic_matrix[ind, unique_words.index(word)] = prob"
   ]
  },
  {
   "cell_type": "code",
   "execution_count": 46,
   "metadata": {},
   "outputs": [],
   "source": [
    "#Word2vec for given docs\n",
    "w2v_model = Word2Vec(sentences=df.tokenized, workers=4, size=100)"
   ]
  },
  {
   "cell_type": "code",
   "execution_count": 47,
   "metadata": {},
   "outputs": [],
   "source": [
    "word_sim_matrix = np.zeros((len(unique_words), len(unique_words)), dtype=np.float64)"
   ]
  },
  {
   "cell_type": "code",
   "execution_count": 128,
   "metadata": {
    "scrolled": true
   },
   "outputs": [
    {
     "ename": "KeyboardInterrupt",
     "evalue": "",
     "output_type": "error",
     "traceback": [
      "\u001b[0;31m---------------------------------------------------------------------------\u001b[0m",
      "\u001b[0;31mKeyboardInterrupt\u001b[0m                         Traceback (most recent call last)",
      "\u001b[0;32m<ipython-input-128-14d9e55363f1>\u001b[0m in \u001b[0;36m<module>\u001b[0;34m()\u001b[0m\n\u001b[0;32m----> 1\u001b[0;31m \u001b[0mget_ipython\u001b[0m\u001b[0;34m(\u001b[0m\u001b[0;34m)\u001b[0m\u001b[0;34m.\u001b[0m\u001b[0mrun_cell_magic\u001b[0m\u001b[0;34m(\u001b[0m\u001b[0;34mu'time'\u001b[0m\u001b[0;34m,\u001b[0m \u001b[0;34mu''\u001b[0m\u001b[0;34m,\u001b[0m \u001b[0;34mu'metric_space = np.zeros((len(M), len(M)), dtype=np.float64)\\nfor i in xrange(len(M)):\\n    for j in xrange(len(M)):\\n        metric_space[i, j] = emd(topic_matrix[i], topic_matrix[j], word_sim_matrix)'\u001b[0m\u001b[0;34m)\u001b[0m\u001b[0;34m\u001b[0m\u001b[0m\n\u001b[0m",
      "\u001b[0;32m/usr/local/lib/python2.7/site-packages/IPython/core/interactiveshell.pyc\u001b[0m in \u001b[0;36mrun_cell_magic\u001b[0;34m(self, magic_name, line, cell)\u001b[0m\n\u001b[1;32m   2115\u001b[0m             \u001b[0mmagic_arg_s\u001b[0m \u001b[0;34m=\u001b[0m \u001b[0mself\u001b[0m\u001b[0;34m.\u001b[0m\u001b[0mvar_expand\u001b[0m\u001b[0;34m(\u001b[0m\u001b[0mline\u001b[0m\u001b[0;34m,\u001b[0m \u001b[0mstack_depth\u001b[0m\u001b[0;34m)\u001b[0m\u001b[0;34m\u001b[0m\u001b[0m\n\u001b[1;32m   2116\u001b[0m             \u001b[0;32mwith\u001b[0m \u001b[0mself\u001b[0m\u001b[0;34m.\u001b[0m\u001b[0mbuiltin_trap\u001b[0m\u001b[0;34m:\u001b[0m\u001b[0;34m\u001b[0m\u001b[0m\n\u001b[0;32m-> 2117\u001b[0;31m                 \u001b[0mresult\u001b[0m \u001b[0;34m=\u001b[0m \u001b[0mfn\u001b[0m\u001b[0;34m(\u001b[0m\u001b[0mmagic_arg_s\u001b[0m\u001b[0;34m,\u001b[0m \u001b[0mcell\u001b[0m\u001b[0;34m)\u001b[0m\u001b[0;34m\u001b[0m\u001b[0m\n\u001b[0m\u001b[1;32m   2118\u001b[0m             \u001b[0;32mreturn\u001b[0m \u001b[0mresult\u001b[0m\u001b[0;34m\u001b[0m\u001b[0m\n\u001b[1;32m   2119\u001b[0m \u001b[0;34m\u001b[0m\u001b[0m\n",
      "\u001b[0;32m<decorator-gen-60>\u001b[0m in \u001b[0;36mtime\u001b[0;34m(self, line, cell, local_ns)\u001b[0m\n",
      "\u001b[0;32m/usr/local/lib/python2.7/site-packages/IPython/core/magic.pyc\u001b[0m in \u001b[0;36m<lambda>\u001b[0;34m(f, *a, **k)\u001b[0m\n\u001b[1;32m    186\u001b[0m     \u001b[0;31m# but it's overkill for just that one bit of state.\u001b[0m\u001b[0;34m\u001b[0m\u001b[0;34m\u001b[0m\u001b[0m\n\u001b[1;32m    187\u001b[0m     \u001b[0;32mdef\u001b[0m \u001b[0mmagic_deco\u001b[0m\u001b[0;34m(\u001b[0m\u001b[0marg\u001b[0m\u001b[0;34m)\u001b[0m\u001b[0;34m:\u001b[0m\u001b[0;34m\u001b[0m\u001b[0m\n\u001b[0;32m--> 188\u001b[0;31m         \u001b[0mcall\u001b[0m \u001b[0;34m=\u001b[0m \u001b[0;32mlambda\u001b[0m \u001b[0mf\u001b[0m\u001b[0;34m,\u001b[0m \u001b[0;34m*\u001b[0m\u001b[0ma\u001b[0m\u001b[0;34m,\u001b[0m \u001b[0;34m**\u001b[0m\u001b[0mk\u001b[0m\u001b[0;34m:\u001b[0m \u001b[0mf\u001b[0m\u001b[0;34m(\u001b[0m\u001b[0;34m*\u001b[0m\u001b[0ma\u001b[0m\u001b[0;34m,\u001b[0m \u001b[0;34m**\u001b[0m\u001b[0mk\u001b[0m\u001b[0;34m)\u001b[0m\u001b[0;34m\u001b[0m\u001b[0m\n\u001b[0m\u001b[1;32m    189\u001b[0m \u001b[0;34m\u001b[0m\u001b[0m\n\u001b[1;32m    190\u001b[0m         \u001b[0;32mif\u001b[0m \u001b[0mcallable\u001b[0m\u001b[0;34m(\u001b[0m\u001b[0marg\u001b[0m\u001b[0;34m)\u001b[0m\u001b[0;34m:\u001b[0m\u001b[0;34m\u001b[0m\u001b[0m\n",
      "\u001b[0;32m/usr/local/lib/python2.7/site-packages/IPython/core/magics/execution.pyc\u001b[0m in \u001b[0;36mtime\u001b[0;34m(self, line, cell, local_ns)\u001b[0m\n\u001b[1;32m   1191\u001b[0m         \u001b[0;32melse\u001b[0m\u001b[0;34m:\u001b[0m\u001b[0;34m\u001b[0m\u001b[0m\n\u001b[1;32m   1192\u001b[0m             \u001b[0mst\u001b[0m \u001b[0;34m=\u001b[0m \u001b[0mclock2\u001b[0m\u001b[0;34m(\u001b[0m\u001b[0;34m)\u001b[0m\u001b[0;34m\u001b[0m\u001b[0m\n\u001b[0;32m-> 1193\u001b[0;31m             \u001b[0;32mexec\u001b[0m\u001b[0;34m(\u001b[0m\u001b[0mcode\u001b[0m\u001b[0;34m,\u001b[0m \u001b[0mglob\u001b[0m\u001b[0;34m,\u001b[0m \u001b[0mlocal_ns\u001b[0m\u001b[0;34m)\u001b[0m\u001b[0;34m\u001b[0m\u001b[0m\n\u001b[0m\u001b[1;32m   1194\u001b[0m             \u001b[0mend\u001b[0m \u001b[0;34m=\u001b[0m \u001b[0mclock2\u001b[0m\u001b[0;34m(\u001b[0m\u001b[0;34m)\u001b[0m\u001b[0;34m\u001b[0m\u001b[0m\n\u001b[1;32m   1195\u001b[0m             \u001b[0mout\u001b[0m \u001b[0;34m=\u001b[0m \u001b[0mNone\u001b[0m\u001b[0;34m\u001b[0m\u001b[0m\n",
      "\u001b[0;32m<timed exec>\u001b[0m in \u001b[0;36m<module>\u001b[0;34m()\u001b[0m\n",
      "\u001b[0;31mKeyboardInterrupt\u001b[0m: "
     ]
    }
   ],
   "source": [
    "%%time\n",
    "metric_space = np.zeros((len(M), len(M)), dtype=np.float64)\n",
    "for i in xrange(len(M)):\n",
    "    for j in xrange(len(M)):\n",
    "        metric_space[i, j] = emd(topic_matrix[i], topic_matrix[j], word_sim_matrix)"
   ]
  },
  {
   "cell_type": "code",
   "execution_count": 48,
   "metadata": {},
   "outputs": [
    {
     "name": "stderr",
     "output_type": "stream",
     "text": [
      "/usr/local/lib/python2.7/site-packages/ipykernel_launcher.py:3: DeprecationWarning: Call to deprecated `__getitem__` (Method will be removed in 4.0.0, use self.wv.__getitem__() instead).\n",
      "  This is separate from the ipykernel package so we can avoid doing imports until\n"
     ]
    }
   ],
   "source": [
    "for i in xrange(len(unique_words)):\n",
    "    for j in xrange(len(unique_words)):\n",
    "        word_sim_matrix[i, j] = cosine(w2v_model[unique_words[i]], w2v_model[unique_words[j]])     "
   ]
  },
  {
   "cell_type": "code",
   "execution_count": 198,
   "metadata": {},
   "outputs": [
    {
     "data": {
      "text/plain": [
       "(100, 100)"
      ]
     },
     "execution_count": 198,
     "metadata": {},
     "output_type": "execute_result"
    }
   ],
   "source": [
    "metric_space.shape"
   ]
  },
  {
   "cell_type": "code",
   "execution_count": 37,
   "metadata": {},
   "outputs": [],
   "source": [
    "def jensen_shannon(query, matrix):\n",
    "    p = query[None,:].T \n",
    "    q = matrix.T \n",
    "    m = 0.5*(p + q)\n",
    "    return np.sqrt(0.5*(entropy(p,m) + entropy(q,m)))\n",
    "\n",
    "def emd_query(query, matrix):\n",
    "    return np.array([emd(query, lst, metric_space) for lst in matrix])"
   ]
  },
  {
   "cell_type": "code",
   "execution_count": 114,
   "metadata": {},
   "outputs": [],
   "source": [
    "def get_most_similar_documents(query,matrix,k=10):\n",
    "    sims = jensen_shannon(query,matrix) # list of jensen shannon distances\n",
    "    #matrix = matrix.astype(np.float64)\n",
    "    #query = query.astype(np.float64)\n",
    "    #sims = emd_query(query, matrix)\n",
    "    print sims.argsort()[:k]\n",
    "    return sims.argsort()[:k] # the top k positional index of the smallest Jensen Shannon distances"
   ]
  },
  {
   "cell_type": "code",
   "execution_count": 116,
   "metadata": {},
   "outputs": [
    {
     "name": "stdout",
     "output_type": "stream",
     "text": [
      "[ 8127  1058 10345  5012  5951  7887  7015  2925  9838  2453]\n",
      "October 27, 2016 @ 11:59 am \n",
      "I’m voting for him – but will be very quiet about it. \n",
      "I believe there Are many out there who are doing the same. Islam is not gay-friendly. It’s the leftist idiot who would believe that it is despite a mountain of evidence showing the truth about Islam. \n",
      "However – too many follow the company line. It is getting very demanding these days, and frankly very strange. But doesn’t the left always do that? Whatever problem there is within the right – at least there is enough room, and more than the case now with the left. Well – at least for this ‘cis’ white male. AndyT October 27, 2016 @ 11:39 am \n",
      "As a gay man I despair of my fellow gays. Here in the UK most have this “poor refugee” mentality. By time the penny finally drops it will be too late BareNakedIslam October 27, 2016 @ 12:34 pm \n",
      "Andy, while the majority still have that “poor refugee” mentality, I have seen a number of gay people commenting here and/or emailing me who know the truth. They’re just afraid of the ridicule they will get by talking about it in within their liberal circles. Manual Paleologos October 27, 2016 @ 10:56 am \n",
      "The irony is that the LGBTQWERTY community is almost uniformly liberal. They support the people who are stoning them, throwing them from buildings, and hanging them. They have ceded any influence with the political Right, as no matter what the Right does, they will not get any meaningful Gay support. That means that just or unjust, there is absolutely no upside to supporting Gay issues. There is a small upside from the Christian Right, to pissing on them. \n",
      "Meanwhile, although we disagree on some major issues, we are probably their best friends. We are the people who would die to protect them.\n"
     ]
    }
   ],
   "source": [
    "# this is surprisingly fast\n",
    "most_sim_ids = get_most_similar_documents(doc_distribution,doc_topic_dist)\n",
    "most_sim_ids\n",
    "print train_df.loc[1058, \"text\"]"
   ]
  },
  {
   "cell_type": "code",
   "execution_count": 117,
   "metadata": {},
   "outputs": [
    {
     "data": {
      "image/png": "[encoded data removed]",
      "text/plain": [
       "<matplotlib.figure.Figure at 0x125150b50>"
      ]
     },
     "metadata": {},
     "output_type": "display_data"
    }
   ],
   "source": [
    "similar_bow = dictionary.doc2bow(train_df.iloc[1058,7])\n",
    "similar_distribution = np.array([tup[1] for tup in lda.get_document_topics(bow=similar_bow)])\n",
    "fig, ax = plt.subplots(figsize=(12,6));\n",
    "# the histogram of the data\n",
    "patches = ax.bar(np.arange(len(similar_distribution)), similar_distribution)\n",
    "ax.set_xlabel('Topic ID', fontsize=15)\n",
    "ax.set_ylabel('Topic Contribution', fontsize=15)\n",
    "ax.set_title(\"Topic Distribution for Similar Article (with Jenson Shannon)\", fontsize=20)\n",
    "ax.set_xticks(np.linspace(10,100,10))\n",
    "fig.tight_layout()\n",
    "#plt.show()\n",
    "plt.savefig(\"/Users/ankushbhatia/personal/seen_similar2.png\")"
   ]
  },
  {
   "cell_type": "code",
   "execution_count": 105,
   "metadata": {},
   "outputs": [
    {
     "name": "stdout",
     "output_type": "stream",
     "text": [
      "October 27, 2016 @ 11:59 am \n",
      "I’m voting for him – but will be very quiet about it. \n",
      "I believe there Are many out there who are doing the same. Islam is not gay-friendly. It’s the leftist idiot who would believe that it is despite a mountain of evidence showing the truth about Islam. \n",
      "However – too many follow the company line. It is getting very demanding these days, and frankly very strange. But doesn’t the left always do that? Whatever problem there is within the right – at least there is enough room, and more than the case now with the left. Well – at least for this ‘cis’ white male. AndyT October 27, 2016 @ 11:39 am \n",
      "As a gay man I despair of my fellow gays. Here in the UK most have this “poor refugee” mentality. By time the penny finally drops it will be too late BareNakedIslam October 27, 2016 @ 12:34 pm \n",
      "Andy, while the majority still have that “poor refugee” mentality, I have seen a number of gay people commenting here and/or emailing me who know the truth. They’re just afraid of the ridicule they will get by talking about it in within their liberal circles. Manual Paleologos October 27, 2016 @ 10:56 am \n",
      "The irony is that the LGBTQWERTY community is almost uniformly liberal. They support the people who are stoning them, throwing them from buildings, and hanging them. They have ceded any influence with the political Right, as no matter what the Right does, they will not get any meaningful Gay support. That means that just or unjust, there is absolutely no upside to supporting Gay issues. There is a small upside from the Christian Right, to pissing on them. \n",
      "Meanwhile, although we disagree on some major issues, we are probably their best friends. We are the people who would die to protect them.\n",
      "####################################################################################################\n",
      "  \n",
      "World famous author Stephen King has a message for the supporters of Donald Trump – a reasonable one that will be immediately ignored, but one that should be heard nonetheless. Trump voters, please think again. Sure, you’re mad. I get that. But you don’t burn down the house because you don’t like the decor. \n",
      "— Stephen King (@StephenKing) October 27, 2016 \n",
      "Trump voters are lashing out after being used and abused by a Republican legislature that has disrespected them and their woes for eight years, funneling the money of the working class up to the richest Americans and passing no meaningful legislation. They have every right to be mad – but voting for Donald Trump is not the answer. Trump’s “plans” for our nation will wreck the economy, undo all the progress of the Obama Recovery, and further divide our country along ethnic and racial lines. \n",
      "But it seems like most Trump voters don’t want answers – they just want to be mad.\n",
      "####################################################################################################\n",
      "Posted on October 27, 2016 by Dr. Eowyn | 10 Comments \n",
      "If we go by most of the MSM/corporate polls, Hillary Clinton will win on November 8. \n",
      "But there are dissenting voices. Among them is Dilbert cartoonist Scott Adams , who’s still predicting a 98% chance of not just a Trump win, but a landslide. Interestingly, the dissenters also include a flaming leftist — docu-maker Michael Moore. \n",
      "Moore is loathsome, but I don’t think anyone has captured or articulated the reasons why so many Americans resonate to Trump’s anti-globalism as well as Moore. \n",
      "Below is an excerpt from a recent speech Moore delivered, followed by my transcription: \n",
      "“I know a lot of people in Michigan that are planning to vote for Trump…. They don’t necessarily like him that much and they don’t necessarily agree with him. They’re not racists and rednecks certainly; they’re actually pretty decent people. And so I wanted to, after talking to a number of them, I wanted to write this. \n",
      "Donald Trump came to the Detroit Economic Club and stood there in front of the Ford Motor executives and said, ‘If you close these factories you’re planning to do in Detroit and build them in Mexico, [when I’m President] I’m going to put a 35% tariff on those cars when you send them back and nobody’s gonna buy them.’ \n",
      "It was an amazing thing to see. No politician, Republican or Democrat, had ever said anything like that to these executives, and it was music to the ears of people in Michigan and Ohio and Pennsylvania, in Wisconsin, the Brexit states. You live here in Ohio, you know what I’m talking about. \n",
      "Whether Trump means it or not is kind of irrelevant because he’s saying the things to people who are hurting. That’s why every beaten-down, nameless, forgotten working stiff — what used to be part of what was called the middle class — loves Trump. He is the human Molotov cocktail that they’ve been waiting for, the human hand grenade that they can legally throw into the system that stole their lives from them. And on November 8th, Election Day, although they lost their jobs, although they’ve been foreclosed on by the bank, next came the divorce, and now the wife and kids are gone, the car’s been repo’ed, they haven’t had a real vacation in years, they’re stuck with the shitty Obamacare plan when you can’t even get a fucking [inaudible]. They’ve essentially lost everything they had, except one thing. The one thing that doesn’t cost them a cent and is guaranteed to them by the American Constitution — the right to vote. \n",
      "They might be penniless, they might be homeless, they might be fucked over and fucked up. It doesn’t matter because it’s equalized on that day. A millionaire has the same number of votes as the person without a job — one. And there’s more of the former middle class than there are in the millionaire class. \n",
      "So on November 8th, the dispossessed will walk into the voting booth, be handed a ballot, close the curtain and take that lever or felt pen or touchscreen and put a big fucking X in the box by the name of the man who is threatening to upend and overturn the very system that has ruined their lives: Donald J. Trump. \n",
      "They see that the elites who ruined their lives hate Trump. Corporate America hates Trump. Wall Street hates Trump. The career politicians hate Trump. The media hates Trump, after they loved him and created him and now hate him. Thank you, media. \n",
      "The enemy of my enemy is who I’m voting for on November 8. Yes, on November 8, you, Joe Blow, Steve Blow, Bob Blow, Billy Blow, Billy Bob Blow — all the Blows get to blow up the whole goddamn system because it’s your right. Trump’s election is going to be the biggest fuck-you ever recorded in human history, and it will feel good.” \n",
      "Perversely, after articulately so beautifully the profound alienation of so many Americans and why Trump speaks for them, Michael Moore then proceeded to make a whole-hog defense and endorsement of Hillary Clinton. \n",
      "Here’s a screenshot from a video showing “Jabba the Hut” Michael Moore making the speech you heard and read above. \n",
      "What if Trump loses? \n",
      "Below are excerpts from a powerful essay, “ The Elite ‘Have No Idea’— Society is Near the Breaking Point ,” written by a guy who calls himself Chindit13 for ZeroHedge : \n",
      "“What I find most surprising today is that the insiders and the elite have no idea what is percolating just beneath the surface . Okay, maybe their arrogance actually produces its own fog, so it should not come as a surprise that they are blinded. They do not look at the calendar, which, if one really looks, says ‘1788’ on it. Something is close. Very close. Society is near the breaking point. \n",
      "My own experience is that Hillary’s so-called Deplorables are actually the most reserved, most polite, and most honest demographic in the country . They are more informed, more self-reliant, and among other things, better armed. Regarding their arms, they are incredibly responsible, and not the source of the violence for which the implement, and not the person, is too often blamed. The Deplorables have the longest fuse. It is, however, a fuse. […] \n",
      "The Deplorables, however, are not possessed of infinite patience. Like a capacitor, there is a charge building, and at some point it will be released into the circuitry of society. \n",
      "The media and other insiders believe themselves to be immune. That thought no doubt results from being immersed inside a cocoon where dissonant voices are not allowed. When the levee breaks, or the capacitor releases its charge, they are going to be gob smacked. \n",
      "Precious few of them are anywhere near as immune as they believe themselves to be. Additionally, what they might think, or hope, is their support, their security, their safe space, doesn’t really exist. \n",
      "Most of society’s guardians, whether they are law enforcement or military, are card-carrying members of the Deplorables. \n",
      "France was similarly constructed in the late 1780s. The elite were isolated only in thought, not in reality. Their protection was of a Potemkin Village nature: not actually there, but merely a facade that gave them false comfort. \n",
      "They paid dearly for their arrogance and ignorance. \n",
      "History may not repeat, but it does rhyme. The calendar really does seem to say 1788, so 1789—and 1792–are not as far off as some would like to believe. \n",
      "This is not a call to arms, but it is a call to reality. Ignore it at your own peril. \n",
      "Some may see these words as a threat. They are not. They are, however, a warning, and a warning from someone who is a student of history. \n",
      "Every society eventually reaches a breaking point. Ours is nearly there. Some of those who might feel threatened, the so-called elite and insiders, think that they can buy protection as easily as they can buy a Gulfstream. How naïve! Who are the private security contractors? Who are the various SOGs? Like law enforcement and the rest of the military, they are the Deplorables. The Deplorables will take your money, but you will not take their lives. Better said, they won’t give up their lives for you or your family. The security you believe you have purchased is an illusion. Make that delusion. Best to get that out front here and now. \n",
      "Some might think this is all Trump’s fault. Again, that shows a degree of ignorance and naïveté which characterizes the elite. Trump is a symptom, not a cause. He might even be a salve, as the changes he could bring might defuse some of the current anger. \n",
      "On the other hand, Hillary is a lit match in a room of dynamite. She, like many of the self-important, thinks her very existence is a favor to the rest of us. She epitomizes the absolute worst of what America has become. Above the law, wealthy not through accomplishment, but through influence peddling only, and a bull in a china shop in terms of her effect on both the country and the world—and I apologize to bulls for that analogy. The world is more unstable because of her. \n",
      "America is less safe because of her. Russia and the US—the two largest nuclear powers—are more at odds because of her. With her in power, we will reach the breaking point at home and internationally, perhaps leading to ‘accidental’ nuclear war, as the heightened rhetoric impacts clear thinking. Society is more stratified because of her. Race relations have deteriorated because of her (and Obama). \n",
      "There are few current ills in society and in geopolitics that cannot be laid at her feet, at least to some extent. The Great Deceiver to many, who exhibits an astonishing aversion to truth telling, is enough to make even an agnostic wonder if the anti-Christ hasn’t finally arrived for its three and a half years of rule. \n",
      "A recently hacked email of John Podesta finds him saying ‘she (Hillary) has begun to hate everyday Americans’. No doubt the same feelings were voiced by [Romania dictator] Nicolas Ceaucescu. It turned out the feeling was mutual. […] \n",
      "Elect Hillary, and continue with business as usual, and it is likely this warning will become an epitaph for the America we know. Society may collapse regardless, because the rot is already very great, but she will hasten the day of reckoning. […]” \n",
      "See also:\n",
      "####################################################################################################\n",
      "So, anyway, what’s the deal? Is Trump just trying to cut his impending loss off at the pass? @SopanDeb Man, his campaign's internal polling must be dreadful \n",
      "— Jason Solomon (@solomonster) October 27, 2016 @SopanDeb Only someone who knows he will lose says that. \n",
      "— Marcus S. (@goodwillfiction) October 27, 2016 @alivitali Something a loser would say. \n",
      "Or is Trump flexing Trump’s authoritarian muscles? @alivitali Sounds like a dictator. \n",
      "— Bonkai Forever (@Forever_Dusk) October 27, 2016 @SopanDeb That is called a dictatorship. He knows that, right? I mean, he has to… \n",
      "— Aaron Sarka (@SarkaAaron) October 27, 2016 @SopanDeb The Dictator Speaketh \n",
      "— Austin Corona (@austincorona1) October 27, 2016 @SopanDeb \"you know, sorta seize power through some armed uprising and install me as president. Like, for life. Just thinking aloud.\" \n",
      "— Edward DeRuiter (@edwardderuiter) October 27, 2016 @SopanDeb God help us if he wins. He has true dictatorial urges. \n",
      "— Oliver Hernandez (@OliverHernandez) October 27, 2016 \n",
      "By all means, GOP, make this man your ideological — and intellectual — standard-bearer. See how well that works out for you. It’s worked wonders so far! @SopanDeb Yeah, this is a guy who definitely respects the limits of presidential power \n",
      "— Scott McBride (@jscottmcbride) October 27, 2016 @SopanDeb Brilliant. Such a transcendent legal mind he has. Really a huge defender of the Constitution.\n",
      "####################################################################################################\n",
      "Comments \n",
      "Famous techno musician Moby tore into Republican nominee Donald Trump today in an op-ed published in RollingStone magazine, tearing into the racist rabble-rouser with unrepentant fury. “I’m tired of being a mealy-mouthed, NPR-listening lefty who has to respect other people’s opinions” writes Moby. “Trump is an actual sociopath.” \n",
      "Distraught at the unrelenting vitriol being hurled at Democratic nominee Hillary Clinton, Moby disparages the naivete with which he feels many voters are approaching the election. \n",
      "If you have a 25-year-old who’s a Jill Stein supporter but they were nine when Ralph Nader handed the presidency to George W. Bush, they don’t know better. There are a lot of people who have lived in a relatively benign bubble, like young women who just assume that Roe v. Wade will always be the law of the land. I think that there’s an innocence that is informing a lot of people’s desire not to vote, or to vote for Jill Stein, but it’s because they’ve had eight years of Obama. And I think that that innocence is making some of them naive and delusional. \n",
      "He then goes on to detail just why a Donald Trump presidency is enough of a threat for him to be so undiplomatic in his approach. \n",
      "I think there is something seriously broken inside him where he’s an actual sociopath and on the spectrum pretty close to being a psychopath. He’s done nothing to indicate that he’s even capable of feeling empathy [for anyone] except for himself. \n",
      "[A Trump presidency would be] death by 1,000 Republican cuts. It basically gives the NRA the ability to write gun policy. It gives the coal industry and the oil industry the ability to write energy policy. It’s handing the keys to people who want to advance policy measures that are just — again, I try and be diplomatic, but they’re trying to advance policy measures to protect their corporate interests or protect their personal interests but to the egregious detriment of our country. \n",
      "With Trump, you get a belligerent racist who’s most likely a sociopath [and] definitely a racist and misogynist with no governing experience. And with Hillary, you get an incredibly bright, progressive, strong, experienced legislator. There’s no choice unless you’re ignorant, delusional or racist. \n",
      "He’s absolutely right on that point. While the “death by 1,000 Republican cuts” is the threat posed by any Republican candidate for the Presidency, the figure of Donald Trump is a threat to our Republic as we know it, and there can be only one choice. \n",
      "I’ve given more money to Democrats this cycle than I’ve ever given in an election season. I’ve done phone-banking, tweeted, Facebooked and Instagrammed, probably to my own personal detriment — the detriment of my friendships [and] certainly the detriment of my professional life – but honestly, the results of this election are more important than most. I’d rather lose fans and have a hand in trying to keep Donald Trump out of the White House than trying to protect a career. A career pales in comparison to the health and wellbeing of our country and our planet. \n",
      "What I learned a long time ago is if you’re a public figure and you’re opinionated and outspoken, people will hate you for it — even if they agree with what you’re saying. But it’s really nice: I’ve been doing this for a long time and at this point I just don’t care. What’s someone gonna do — not buy my records? It’s 2016, no one buys records anyway.\n",
      "####################################################################################################\n",
      "Share on Twitter The Wildfire is an opinion platform and any opinions or information put forth by contributors are exclusive to them and do not represent the views of IJR. \n",
      "The strangest presidential election campaign in modern history continues. \n",
      "And the old saying “politics makes strange bedfellows” was never more true than in this almost surrealistic example: conservative firebrand Sean Hannity praising uber-liberal filmmaker Michael Moore for praising Donald Trump—sort of, anyway. \n",
      "During Hannity's radio show on Wednesday, Hannity said of Moore : \n",
      "“He realizes that there is a whole generation of people now, hard working, tax-paying long-suffering Americans, who have been keeping the country going through the hardest times — the people that built this country that are screwed over.\" \n",
      "Hannity was referring to observations Moore makes in his recently released film “Michael Moore in TrumpLand,” particularly about comments Moore said Trump made to Ford executives during a meeting of the Detroit Economics Club: \n",
      "\"'If you close these factories like you're planning to do in Detroit, and build them in Mexico, I'm going to put a 35% tariff on those cars when send them back, and nobody's going to buy them.' \n",
      "It was an amazing thing to see. No politician — Republican or Democrat — had ever said anything like that to these executives.\" \n",
      "Lest you think Moore has 'lost his mind' and gone over to 'the dark side,' think again. \n",
      "He mocked Donald Trump Jr. and the “right wing” on Twitter on Wednesday for misconstruing his comments in “TrumpLand”: Hey everyone - Trump, Jr. & right wing thinks my movie called \"TrumpLand\" is pro-Trump! Haha. Pls don't tell them otherwise! #satire #irony pic.twitter.com/difR93uzTg — Michael Moore (@MMFlint) October 26, 2016 \n",
      "Meanwhile, Hannity continues to sing Moore's praises. Strange bedfellows indeed. Even if one of them is being played. \n",
      "####################################################################################################\n",
      "  Donald Trump Is The Candidate For Americans, Not Special Interests Donald Trump Is The Candidate For Americans, Not Special Interests Luke Stranahan \n",
      "Luke Stranahan is an engineer by trade and an armed patriot by inclination. He writes for Return of Kings as a leisure pursuit and an attempt to do his part to help reverse the slide into moral decrepitude of modern society. Follow him on Twitter. November 2, 2016 Politics \n",
      "Next Tuesday is the American election, and, for better or for worse, we’ll pick the next President at that time (assuming we don’t get mired in voter fraud and recounts), and we’ll either brace for government mandated SJW enemas or bask in a temporary setback of those evil people. But, today, I want to talk on Trump once to match an article from last week, and I intend to focus on how he is the American candidate, as opposed to the special interest groups’ one. \n",
      "I had a conversation last week with some people who acted as SJWs, but were later presented by a mutual friend as libertarian. The discussion immediately went nasty, with my opposition painting Trump (and anyone who supported him) as a racist and a bigot. Upon trying to determine why two of the left’s ubiquitous labels were applied to me this time, I learned that their perspective was, unless you were universally for all special interest groups, you were a bigot or a racist. False Dichotomy And The American Nightmare \n",
      "The problem, I found out, was that these people have distilled the political spectrum down into a black or white situation. Either you want all refugees here from the Middle East, all the Hispanics from any country south of the border to come here freely and citizenship for those already here, and that any black people shot by police are just misunderstood and were turning their lives around, or you’re a racist. There’s simply no middle ground. \n",
      "They don’t understand that Trump is not a special interest candidate, by which I mean that he is not going to put any minority group ahead of the rest of us at our expense, but he is not racist towards minorities, or sexist towards women. \n",
      "It is possible to be against illegal immigration, but treat Americans of Hispanic ancestry as valued citizens whom you will represent. It is possible to be against feminism, Affirmative Action, and the persecution of men for the profit of women, yet still value American women as Americans themselves. It is possible to note that some black people cause a disproportionate amount of crime, yet note that some police are racist, and see that there are bad and good cops AND bad and good black people. \n",
      "The American Dream is that all men are created equal, and that’s men as in humanity, not just males. It is not that all men are equal, and there’s a big difference to note here. You have the same opportunities as everyone else when you are born with the exception of disability, and I do not know anyone, myself included, that is against governmental aid for the disabled. \n",
      "What we have, instead, is the American Nightmare, where the left uses government and taxes for the most inane of causes, trying to fix any disadvantaged group’s lot, real or imagined, so that things will be better. They take from the producers, and give to the non-producers so that, according to their idealistic vision, they will suddenly become productive members of society (or become addicted to the welfare tit and vote Democrat for the rest of their lives.) The Good Of The Country Over That Of The Individual \n",
      "Long gone are responsible Democrats like Kennedy who told us to ask what you can do for your country. Every recent Democratic President, from Carter to Obama, and most of the Democrat Congressmen, view the working middle class of the country as simply a group to exploit for their pet special interest groups. Trump is the first candidate in a long time who isn’t for the blacks, or the gays, or the Muslims, or the feminists, or whatever, and that matters a lot. \n",
      "The reason why not being for a special interest group (which is ALL that Hillary is for, with her youth vote, black vote, women’s vote, gay vote, etc.) is so important is that these groups, even put together, do not matter when it comes down to the good of the country. Don’t get me wrong, there’s plenty of good, hardworking black people, just like there’s the same for women, and for gays, and for young people, but these hardworking folks from all these groups aren’t going to be part of the BLM, or La Raza, or Lamda, because they’re too busy being productive Americans. Activism is for unemployed people. \n",
      "What’s going to happen if we don’t placate BLM and just ignore them? They riot a bit more and some get arrested? What if we told them that people that commit crimes to protest being treated like they commit a lot of crimes is ass-backwards thinking and counter-productive to their goals? They’d quit rioting. \n",
      "What would happen if we shut the Mexican border down to illegal immigration, but made a straightforward, but strict, path to citizenship for Hispanics that wanted to be citizens? What if we said, this is America, we appreciate your culture and encourage to preserve it and your language in your children, but the national language IS English, and all business and schooling will be done in it, and in it only, and it’s your choice to not learn it, but the difficulties that will arise from that choice are all on you? They’d be Americans, proud of their heritage and their legal immigration and citizenship as well. \n",
      "What would happen if we told gay people that it’s cool if they have civil unions under the law, and have the same rights as everyone else, but it’s not cool trying to pick a fight with a Christian bakery to make the government hall monitor come drive them out of business just because their belief in their God and that you’re sinning makes you uneasy and worried that they might actually be right? \n",
      "What if we told them it’s ok to do whatever you want with another consenting adult, but you don’t have to try to make five-year-olds decide if they’re gay or straight when they shouldn’t be wondering about that till puberty hits? They’d be normal Americans who just happen to like sex with the same gender, and they’d quit pushing their agenda and being obnoxious and in the rest of our faces. \n",
      "What would happen if we talked to Muslims and said that there is a huge, deafening, silence when it comes to the subject of Islamic Terrorism from them that makes it hard to trust any of them? What if we told them that we needed their help to bring the religion out of its tacit acceptance and support of terrorism, and part of that help means supporting us vetting Muslims coming here more strictly until they are no longer statistically more likely to be terrorists than people of other religions and ethnicities? They’d go along with that and maybe realize we’re fixing a problem, not hating a people. \n",
      "What would happen if we told women that feminism has all but killed modern marriage due to universal punishment of divorced men and that no punishment for false-rape accusers both makes men not trust women and insults any real rape survivor? What would happen if we told them that giving them jobs for their genitalia over their skills is destroying industries by lowering the only standard that matters, that of merit; that of excellence? \n",
      "What if we told them that gender ratios and quotas may fix the macro view of sexism, but make the man passed over for the position solely because you were female pissed as all hell towards women and, when you do that to the majority of men, you’ll be just as successful, and just as hated by men as men were and were hated by you in years past? They’d realize that it’s not a competition, it’s a cooperation, and maybe skill should be valued over sex. \n",
      "What would happen if we stopped all these divisive issues that really don’t do anything other than tear us apart and work on a better economy, on rights for all, on border security? What would happen if we simply looked at each other as Americans, and put us, all of us, first? What would happen if we ripped out the crap in the Federal government that overtaxes people, or deploys armed forces against our own countrymen? What would happen if we made the Supreme Court Constitutional again, and made term limits a reality for Congress? Maybe we could get a government for, by, and of the people again. Maybe America can indeed by great again like the man says. Conclusion \n",
      "I’m not in a special interest group. No President, outside of George W. Bush right after the September 11th attacks, that I can recall since my childhood, has been for me as an American. I’ve always been someone to be taxed, to be disarmed, to be hated, to be blamed. It’s not racism or bigotry to want us all to be treated as equals and not be penalized for real and imagined wrongs that occurred in the past before I was born, or more recently yet with which I had nothing to do. \n",
      "I’m not part of the problem. I’m an American; the people who say I am part of the problem are the problem. Their candidate, mired in scandal, corruption, and treason, is Hillary Clinton. Mine, with a message of hope for the country, not just some groups in it, is Donald Trump.\n",
      "####################################################################################################\n",
      "Getty - Saul Loeb/AFP The Wildfire is an opinion platform and any opinions or information put forth by contributors are exclusive to them and do not represent the views of IJR. \n",
      "Sean Hannity took to the radio on Wednesday and was upfront about how he really feels about conservatives who refuse to vote for Trump. \n",
      "He kicked off his explosive rant by telling his listeners that he's “pissed,” and said: \n",
      "\"In 13 freaking days, we are either going to make a decision to keep screwing the country up or we are going to try and fix it. That's what's at stake here. \n",
      "You want to get 95 million Americans back to work, you want to get the economy going, you want a president that has the courage to say 'radical Islam.' \n",
      "You want to not bring in refugees from countries that have laws that are the antithesis of our constitutional values. \n",
      "You want to control the borders, you want become energy independent, you want to eliminate Obamacare, you want to fix are dilapidated piece of crap educational system, this is your chance.\" \n",
      "Then, he went nuclear on the “Never Trump” movement. \n",
      "You can listen to Hannity's full rant, below : \n",
      "####################################################################################################\n",
      " President-Elect Donald Trump's First Televised Interview Video CBS 60 Minutes Trump Talks Wall, Deportations, Roe v. Wade, and Clintons Future in 60 Minutes Interview. November 14, 2016 Audio\n",
      "Lesley Stahl: Well, congratulations, Mr. Trump.\n",
      "Donald Trump: Thank you.\n",
      "Lesley Stahl: Youre president-elect.\n",
      "Donald Trump: Thank you.\n",
      "Lesley Stahl: How surprised were you?\n",
      "Donald Trump: Well, I really felt we were doing well. I was on a string of about 21 straight days of speeches, sometimes many a day and the last two days I really-- I really had a pretty wild time. I did six speeches and then I did seven and--\n",
      "Lesley Stahl: But everyone thought you were going to lose.\n",
      "Donald Trump: I know, I did my final speech in Michigan at 1:00 in the morning and we had 31,000 people, many people outside of the arena. And I felt-- when I left, I said, How are we gonna lose? We set it up a day before. And we had all of these people. And it was literally at 1:00 in the morning and I said, This doesnt look like second place. So we were really happy, I mean, it was-- these are great people.\n",
      "Lesley Stahl: On election night, I heard you went completely silent. Was it a sort of realization of the enormity of this thing for you?\n",
      " Donald Trump: I think so, its enormous. Ive done a lotta big things, Ive never done anything like this. It is so big, it is so-- its so enormous, its so amazing.\n",
      " Lesley Stahl: It kind of just took your breath away? Couldnt talk?\n",
      "Donald Trump: A li-- a little bit, a little bit. And I think-- I realized that this is a whole different life for me now.\n",
      "Lesley Stahl: Hillary called you. Tell us about that phone call.\n",
      "Donald Trump: So Hillary called and it was a lovely call and it was a tough call for her, I mean, I can imagine. Tougher for her than it would have been for me. And for me, it would have been very, very difficult. She couldnt have been nicer. She just said, Congratulations, Donald, well done. And I said, I want to thank you very much, you were a great competitor. She is very strong and very smart.\n",
      "Lesley Stahl: What about Bill Clinton? Did you talk to him?\n",
      "Donald Trump: He did, he called the next day.\n",
      "Lesley Stahl: Really? What did he say?\n",
      "Donald Trump: He actually called last night.\n",
      "Lesley Stahl: What did he say?\n",
      "Donald Trump: And he-- he couldnt have been more gracious. He said it was an amazing run. One of the most amazing hes ever seen.\n",
      "Lesley Stahl: He said that.\n",
      "Donald Trump: He was very, very-- really, very nice.\n",
      "Lesley Stahl: It was a pretty nasty campaign. Do you regret any of the things you said about her?\n",
      "Donald Trump: Well, it was a double-side nasty.\n",
      "Donald Trump: I mean they were tough and I was tough and-- do I regret? I mean, Im sitting here with you now and were gonna do a great job for the country. Were going to make America great again, I mean, thats what-- it-- it began with that and thats where we are right now. There are so many--\n",
      "Lesley Stahl: So no-- no regrets about--\n",
      "Donald Trump: I cant regret. No-- I wish it were softer, I wish it were nicer, I wish maybe even it was more on policy, or whatever you want to say. But-- but I will say that-- it really-- it really is something that Im very proud of I mean it was a tremendous campaign.\n",
      "Lesley Stahl: Can we talk about yesterday with President Obama?\n",
      "Donald Trump: Sure.\n",
      "Lesley Stahl: 90 minutes. You were scheduled for what? 15?\n",
      "Donald Trump: 15 max.\n",
      "[Barack Obama: We talked about foreign policy, we talked about domestic policy.]\n",
      "Donald Trump: This was just going to be a quick little chat and it lasted close to an hour and a half. And it could have gone on for four hours. I mean it was-- just-- in fact, it was almost hard breaking it up because we had so many things to say. And he told me-- the good things and the bad things, there are things that are tough right now--\n",
      "Lesley Stahl: Like what?\n",
      "Donald Trump: Well\n",
      "Lesley Stahl: Give us some meat.\n",
      "Donald Trump: Well, look I dont want to divulge, but we talked about the Middle East, thats tough. Its a tough situation. I wanted to get his full view and I got his, you know I got a good part of his view.\n",
      "Lesley Stahl: Uh-huh.\n",
      "Donald Trump: And I like having that because Im going to be inheriting that in a short period of time. I found him to be terrific. I found him to be-- very smart and very nice. Great sense of humor, as much as you can have a sense of humor talking about tough subjects, but we were talking about some pretty tough subjects.\n",
      "Donald Trump:and we were talking about some victories, also, some things that-- that he feels very good about. But--\n",
      "Lesley Stahl: Like--\n",
      "Donald Trump: Well, what I really wanted to focus on was-- the Middle East, North Korea, Obamacare is tough. You know, healthcare is a tough situation.\n",
      "Lesley Stahl: Oh, I bet he asked you not to undo it.\n",
      "Donald Trump: Well, he didnt ask me, no, he told me-- you know, the merits and the difficulties. And we understand that.\n",
      "Lesley Stahl: You looked pretty sober sitting there in the Oval Office, did something wash over you or--\n",
      "Donald Trump: No, I think Im a sober person. I think the press tries to make you into something a little bit different. In my case, a little bit of a wild man. Im not. Im actually not. Im a very sober person. But it was respect for the office, it was respect for the president. Again, I never met him before, but we had-- we had a very good chemistry going. And-- and I really foundit might not be that I agree with him, but I really found the conversation unbelievably interesting.\n",
      "[Barack Obama: I want to emphasize to you, Mr. President-elect, that we now are gonna want to do everything we can to help you succeed, because if you succeed then the country succeeds.]\n",
      "Lesley Stahl: Was it at all awkward, at all, given what youve said about each other? You said he was not born in this country, he said things about you, he said youre-- unqualified--\n",
      "Donald Trump: You know what, it was a very-- it was a very interesting thing because-- I mean, few people have asked me from my family, what was that first period of time like?\n",
      "Lesley Stahl: Yeah.\n",
      "Donald Trump: We never discussed what was said about each other. I said terrible things about him, he said terrible things about me. We never ever discussed what we said about each other\n",
      "Lesley Stahl: There was no awkwardness?\n",
      "Donald Trump: Ill be honest, from my standpoint zero, zero. And thats strange. Im actually surprised to tell you that. Its-- you know, a little bit strange.\n",
      "[Donald Trump: Thank you, sir.]\n",
      "Lesley Stahl: Do you think that-- that your election is a repudiation of his presidency?\n",
      "Donald Trump: No, I think its a moment in time where politicians for a long period of time have let people down. Theyve let em down on the job front. Theyve even let em down in terms of the war front. You know, weve been fighting this war for 15 years--\n",
      "Lesley Stahl: This was the message of your campaign.\n",
      "Donald Trump: Weve spent $6 trillion in the Middle East, $6 trillion, we could have rebuilt our country twice. And you look at our roads and our bridges and our tunnels and all of the-- and our airports are, like, obsolete. And I think it was just a repudiation of whats been taking place over a longer period of time than that.\n",
      "Lesley Stahl: You know, you surprised everyone by winning the primaries, beating 17 other Republicans or 16, whatever-- people are really surprised that you won this election. Are people going to be surprised about how you conduct yourself as president?\n",
      "Donald Trump: You know, Ill conduct myself-- in a very good manner, but depends on what the situation is, sometimes you have to be rougher. When I look at-- when I look at the world and you look at how various places are taking advantage of our country, and I say it, and I say it very proudly, its going to be America first. Its not going to be what were doingwe, weve lost-- were losing this country. Were losing this country. Thats why I won the election. And by the way, won it easily, I mean I won easily. That was big, big.\n",
      " Lesley Stahl: Are you going to sometimes have that same rhetoric that you had on the stump? Or are you going to reign it in?\n",
      " Donald Trump: Well, sometimes you need a certain rhetoric to get people motivated. I dont want to be just a little nice monotone character and in many cases I will be.\n",
      "Lesley Stahl: Can you be?\n",
      "Donald Trump: Sure I can. I can be easily, thats easier. Honestly to do that, its easier.\n",
      "Lesley Stahl: So lets go through very quickly some of the promises you made and tell us if youre going to do what you said or youre going to change it in any way. Are you really going to build a wall?\n",
      " Donald Trump: Yes.\n",
      "Lesley Stahl: Theyre talking about a fence in the Republican Congress, would you accept a fence?\n",
      "Donald Trump: For certain areas I would, but certain areas, a wall is more appropriate. Im very good at this, its called construction.\n",
      "Lesley Stahl: So part wall, part fence?\n",
      "Donald Trump: Yeah, it could be  it could be some fencing.\n",
      "Lesley Stahl: What about the pledge to deport millions and millions of undocumented immigrants?\n",
      "Donald Trump: What we are going to do is get the people that are criminal and have criminal records, gang members, drug dealers, we have a lot of these people, probably two million, it could be even three million, we are getting them out of our country or we are going to incarcerate. But were getting them out of our country, theyre here illegally. After the border is secured and after everything gets normalized, were going to make a determination on the people that youre talking about who are terrific people, theyre terrific people but we are gonna make a determination at that-- But before we make that determination-- Lesley, its very important, we want to secure our border.\n",
      "[Paul Ryan: We had a fantastic, productive meeting.]\n",
      "Lesley Stahl: So you were with Paul Ryan, you met with the Republican leadership, what was the-- one thing that you all agreed you want to get done right away?\n",
      "Donald Trump: Well, I would say there was more than one thing, there were three things, it was healthcare, there was immigration and there was a major tax bill lowering taxes in this country. Were going to substantially simplify and lower the taxes--\n",
      "Lesley Stahl: And youve got both Houses?\n",
      "Donald Trump: And I have both Houses and we have the presidency, so we can do things--\n",
      "Lesley Stahl: You can do things lickety-split.\n",
      "Donald Trump: Its been a long time since its happened.\n",
      "Donald Trump: And they gave me a lot of credit. Dont forget, I was abused four or five weeks ago, they said I was going to-- instead of having all three, we would lose all three. So that was good. But those are the three things that we really discussed.\n",
      "Lesley Stahl: You said that lobbyists owned politicians because they give them money.\n",
      "Donald Trump: Yeah.\n",
      "Lesley Stahl: You admitted you used to do it yourself. You have a transition team\n",
      "Donald Trump: And when you say lobbyists, lobbyists and special interests.\n",
      " Lesley Stahl: And you want to get rid of all of that?\n",
      " Donald Trump: I dont like it, no.\n",
      " Lesley Stahl: You dont like it, but your own transition team, its filled with lobbyists.\n",
      " Donald Trump: Thats the only people you have down there.\n",
      " Lesley Stahl: You have lobbyists from Verizon, you have lobbyists from the oil gas industry, you have food lobby.\n",
      "Donald Trump: Sure. Everybodys a lobbyist down there--\n",
      " Lesley Stahl: Well, wait\n",
      " Donald Trump: Thats what they are. Theyre lobbyists or special interests\n",
      "Lesley Stahl: On your own transition team.\n",
      " Donald Trump:we are trying to clean up Washington. Look--\n",
      " Lesley Stahl: How can you claim--\n",
      " Donald Trump: Everything, everything down there-- there are no people-- there are all people that work -- thats the problem with the system, the system. Right now, were going to clean it up. Were having restrictions on foreign money coming in, were going to put on term limits, which a lot of people arent happy about, but were putting on term limits. Were doing a lot of things to clean up the system. But everybody that works for government, they then leave government and they become a lobbyist, essentially. I mean, the whole place is one big lobbyist.\n",
      "Lesley Stahl: But youre, but youre basically saying you have to rely on them, even though you want to get rid of them?\n",
      "Donald Trump: Im saying that they know the system right now, but were going to phase that out. You have to phase it out.\n",
      " Lesley Stahl: Lets talk about your cabinet.\n",
      " Donald Trump: OK.\n",
      " Lesley Stahl: Have you made any decisions?\n",
      " Donald Trump: Yes.\n",
      "Lesley Stahl: Tell us.\n",
      "Donald Trump: Well, I cant tell you that, but I have made--\n",
      "Lesley Stahl: Oh, come on\n",
      "Donald Trump: You know the amazing thing to show you the incredible nature of our country. First of all, every major leader and probably less than major le- has called me, Ive spoken to many of them and Ill call the rest of them, but and I said, Boy, this really shows you how powerful our country is. France and U.K. and I mean everybody, all over Asiaand very, just to congratulate. But it really shows the power of our country.\n",
      "Lesley Stahl: One of the things youre going to obviously get an opportunity to do, is name someone to the Supreme Court. And I assume youll do that quickly?\n",
      "Donald Trump: Yes. Very important.\n",
      "Lesley Stahl: During the campaign, you said that you would appoint justices who were against abortion rights. Will you appoint-- are you looking to appoint a justice who wants to overturn Roe v. Wade?\n",
      "Donald Trump: So look, heres whats going to happen-- Im going to-- Im pro-life. The judges will be pro-life. Theyll be very\n",
      "Lesley Stahl: But what about overturning this law--\n",
      "Donald Trump: Well, there are a couple of things. Theyll be pro-life, theyll be-- in terms of the whole gun situation, we know the Second Amendment and everybodys talking about the Second Amendment and theyre trying to dice it up and change it, theyre going to be very pro-Second Amendment. But having to do with abortion if it ever were overturned, it would go back to the states. So it would go back to the states and--\n",
      " Lesley Stahl: Yeah, but then some women wont be able to get an abortion?\n",
      " Donald Trump: No, itll go back to the states.\n",
      "Lesley Stahl: By stateno some --\n",
      " Donald Trump: Yeah.\n",
      " Donald Trump: Yeah, well, theyll perhaps have to go, theyll have to go to another state.\n",
      " Lesley Stahl: And thats OK?\n",
      "Donald Trump: Well, well see what happens. Its got a long way to go, just so you understand. That has a long, long way to go.\n",
      " Lesley Stahl: Are you in any way intimidated, scared about this enormous burden, the gravity of what youre taking on?\n",
      " Donald Trump: No.\n",
      " Lesley Stahl: Not at all?\n",
      " Donald Trump: I respect it. But Im not scared by it.\n",
      "Lesley Stahl: Now youre not scared, but there are people, Americans, who are scared and some of them are demonstrating right now, demonstrating against you, against your rhetoric--\n",
      "Donald Trump: Thats only because they dont know me. I really believe thats only because--\n",
      "Lesley Stahl: Well, they listened to you in the campaign and thats--\n",
      "Donald Trump: I just dont think they know me.\n",
      " Lesley Stahl: Well, what do you think theyre demonstrating against?\n",
      "Donald Trump: Well, I think in some cases, you have professional protesters. And we had it-- if you look at WikiLeaks, we had--\n",
      " Lesley Stahl: You think those people down there are\n",
      " Donald Trump: Well Lesley\n",
      " Lesley Stahl: are professional?\n",
      " Donald Trump: Oh, I think some of them will be professional, yeah--\n",
      "Lesley Stahl: OK, but what about  theyre in every city.\n",
      "Lesley Stahl: When they demonstrate against you and there are signs out there, I mean, dont you say to yourself, I guess you dont, you know, do I have to worry about this? Do I have to go out and assuage them? Do I have to tell them not to be afraid? Theyre afraid.\n",
      " Donald Trump: I would tell them dont be afraid, absolutely.\n",
      "Lesley Stahl: But thats not what youre saying, I said it-\n",
      " Donald Trump: Oh, I think, no, no, I think-- I am saying it, Ive been saying it.\n",
      " Lesley Stahl: OK.\n",
      "Donald Trump: Dont be afraid. We are going to bring our country back. But certainly, dont be afraid. You know, we just had an election and sort of like you have to be given a little time. I mean, people are protesting. If Hillary had won and if my people went out and protested, everybody would say, Oh, thats a terrible thing. And it would have been a much different attitude. There is a different attitude. You know, there is a double standard here.\n",
      "It has been five full days since the election and anti-Trump demonstrations, driven in part by Hillary Clintons edge in the popular vote, have been significant.\n",
      "When we interviewed him on Friday afternoon Mr. Trump said he had not heard about some of the acts of violence that are popping up in his name or against his supporters.\n",
      "Nor he said had he heard about reports of racial slurs and personal threats against African Americans, Latinos and gays by some of his supporters.\n",
      "Donald Trump: I am very surprised to hear that-- I hate to hear that, I mean I hate to hear that--\n",
      "Lesley Stahl: But you do hear it?\n",
      "Donald Trump: I dont hear itI saw, I saw one or two instances\n",
      "Lesley Stahl: On social media?\n",
      "Donald Trump: But I think its a very small amount. Again, I think its--\n",
      "Lesley Stahl: Do you want to say anything to those people?\n",
      "Donald Trump: I would say dont do it, thats terrible, cause Im gonna bring this country together.\n",
      " Lesley Stahl: Theyre harassing Latinos, Muslims--\n",
      "Donald Trump: I am so saddened to hear that. And I say, Stop it. If it-- if it helps. I will say this, and I will say right to the cameras: Stop it.\n",
      "During the campaign Mr. Trump said he would appoint a special prosecutor to look into Hillary Clintons email issue.\n",
      "So we asked him if he plans to carry that out.\n",
      "That part of the interview and a discussion with the next first lady, Melania Trump, when we come back.\n",
      "On Friday, Donald Trump announced that he was changing the head of his transition team. Governor Chris Christie was replaced by Vice President-elect Mike Pence. Mr. Trump also added his three older children to the transition team.\n",
      "Between now and Inauguration Day, the team must fill the new administration with 4,000 political appointees. Thats 4,000 new hires in just nine weeks.\n",
      "When we talked to Donald Trump on Friday, the enormity and gravity of his new role was just sinking in. He was subdued. We wondered if as president he planned to temper his rhetoric, lower the flame.\n",
      "Lesley Stahl: I want to ask you about the tweet that you put out, I think it was last night or the night before, about these demonstrators.\n",
      "Donald Trump: Yeah.\n",
      "Lesley Stahl: You said that they were professionalsand you said it was unfair.\n",
      "Donald Trump: I said some of them. Some of them are --\n",
      "Lesley Stahl: But are you going to be tweeting and whatever youre upset about just put out there when youre president?\n",
      "Donald Trump: So its a modern form of communication, between Face-- you know, Facebook and Twitter and I guess Instagram, I have 28 million people. 28 million people--\n",
      "Lesley Stahl: So you are going to keep it up?\n",
      "Donald Trump: Its a great form of communication. Now, do I say Ill give it up entirely and throw out, thats a tremendous form-- I pick up-- Im picking up now, I think I picked up yesterday 100,000 people. Im not saying I love it, but it does get the word out. When you give me a bad story or when you give me an inaccurate story or when somebody other than you and another network, or whatever, cause of course, CBS would never do a thing like that right? I have a method of fighting back. Thats very tough--\n",
      "Lesley Stahl: But youre going to do that as president?\n",
      "Donald Trump: Im going to do very restrained, if I use it at all, Im going to do very restrained. I find it tremendous. Its a modern form of communication. There should be nothing you should be ashamed of. Its-- its where its at. I-- I do believe this, I really believe that, um-- the fact that I have such power in terms of numbers with Facebook, Twitter, Instagram, et cetera, I think it helped me win all of these races where theyre spending much more money than I spent. You know, I spent my money. A lot of my money. And I won. I think that social media has more power than the money they spent, and I think maybe to a certain extent, I proved that.\n",
      "Lesley Stahl: Are you going to ask for a special prosecutor to investigate Hillary Clinton over her emails? And are you, as you had said to her face, going to try and put her in jail?\n",
      "Donald Trump: Well, Ill tell you what Im going to do, Im going to think about it. Um, I feel that I want to focus on jobs, I want to focus on healthcare, I want to focus on the border and immigration and doing a really great immigration bill. We want to have a great immigration bill. And I want to focus on all of these other things that weve been talking about.\n",
      "Lesley Stahl: You-- you know, you--\n",
      "Donald Trump: And get the country straightened away.\n",
      "Lesley Stahl: You called her crooked Hillary, said you wanted to get in jail, your people in your audiences kept saying, Lock em up.\n",
      "Donald Trump: Yeah. She did--\n",
      "Lesley Stahl: Do you\n",
      "Donald Trump: She did some bad things, I mean she did some bad things--\n",
      "Lesley Stahl: I know, but a special prosecutor? You think you might\n",
      "Donald Trump: I dont want to hurt them. I dont want to hurt them. Theyre, theyre good people. I dont want to hurt them. And I will give you a very, very good and definitive answer the next time we do 60 Minutes together.\n",
      "With that\n",
      "[Donald Trump: You look great, honey.]\n",
      "We were joined by the next first lady, Melania Trump. Shell be only the second foreign-born first lady. Shes from Slovenia. John Quincy Adams wife Louisa was the first.\n",
      "Lesley Stahl: You know, I asked your husband if he was at all intimidated and scared about what lies ahead. The enormity. Youre about to be first lady. Are you a little nervous about it? Little tense? A little--\n",
      "Melania Trump: Well, there is a lot of responsibilities. And its-- a lot of work needs to be done. And-- its-- your-- stuff on your shoulders. And-- we will take care of it-- day by day. I will stay true to myself. Im very strong and um-- tough and confident. And I will listen myself and I will do what is right and what feels to my heart.\n",
      "Lesley Stahl: What kind of a first lady do you think shes going to be?\n",
      "Donald Trump: She will be terrific. She is very strong and very confident, but shes very warm. And I think shell have a platform where shell really be able to do a lot of good. And thats what she wants to do.\n",
      "Lesley Stahl: You know, first ladies usually have a cause. And youve already said youre interested in speaking out against bullying on social media.\n",
      "Melania Trump: I think its very important because a lot of children and teenagers are getting hurt. And we need to teach them how to talk to each other, how to treat each other and to, to be able to connect with each other on the right way.\n",
      "Its an ironic choice since her own husband sent out a stream of pretty nasty tweets during the campaign.\n",
      "Lesley Stahl: What about your husbands tweeting?\n",
      "Melania Trump: Well, sometimes he-- it got him in trouble. But it helped a lot as well. He had unbelievable following.\n",
      "Lesley Stahl: So you never say to him, Come on?\n",
      "Melania Trump: I did.\n",
      "Donald Trump: She does--\n",
      "Melania Trump: I--\n",
      "Melania Trump: You know, of course, I did many times, from the beginning of the campaign. But\n",
      "Lesley Stahl: Does he listen to you?\n",
      "Melania Trump: Sometimes he listens, sometimes he doesnt--\n",
      "Donald Trump: Im not a big tweeter. I mean, I dont do too many, but they hit home. And they have to get a point across.\n",
      "Lesley Stahl: If he does something that you think crossed a line, will you tell him?\n",
      "Melania Trump: Yes, I tell him all the time.\n",
      "Lesley Stahl: All the time?\n",
      "Melania Trump: All the time.\n",
      "Lesley Stahl: And does--\n",
      "Melania Trump: And--\n",
      "Lesley Stahl: --he listen? Does he--\n",
      "Melania Trump: I think he hears me. But he will do what he wants to do on the end. Hes an adult. He knows the consequences. And I give him my opinion. And he could do whatever he likes with it.\n",
      "Lesley Stahl: Did you ask Melania sort of, for permission, in a way, to run for president? Did you get her approval?\n",
      "Donald Trump: Well, I actually sat down with Melania and my whole family and we talked about it. Don, Ivanka, Eric, Tiffany. Barron to a lesser extent, but Barron too. Um, because in a way hes affected every bit as much. Maybe more.\n",
      "Lesley Stahl: Maybe more.\n",
      "Donald Trump: And so we all had a dinner and I said, I would like to do this. I think I can do a great job. And I wanted to get, number one, a consensus and number two, ideally, their permission. And they all agreed.\n",
      "Lesley Stahl: Your son Barron, what is he, 10?\n",
      "Melania Trump: 10.\n",
      "Lesley Stahl: 10. He was on camera the whole time you were giving your acceptance speech. Does he get it? Does he know?\n",
      "Melania Trump: He knows. He knows--\n",
      "Lesley Stahl: He knows?\n",
      "Melania Trump: --whats going on. And, hes very proud of his dad.\n",
      "Lesley Stahl: Now-- you met with Michelle Obama yesterday. Was there any awkwardness, given--\n",
      "Melania Trump: No.\n",
      "Lesley Stahl: --what everybody was saying about everybody in the campaign?\n",
      "Melania Trump: No. I didnt feel it.\n",
      "Lesley Stahl: Not at all?\n",
      "Melania Trump: No.\n",
      "Lesley Stahl: Tell us about the meeting.\n",
      "Melania Trump: Yes, she was a gracious host. We had a great time and we talk about raising children in the White House. She was very warm and very nice.\n",
      "Lesley Stahl: You know, she raised the two kids in the White House. But she had her mother living there. Thats an enormous help. Your parents are here, right?\n",
      "Melania Trump: Theyre here.\n",
      "Lesley Stahl: Will they go to Washington with you?\n",
      "Melania Trump: They might. We will see. We will discuss that.\n",
      "Lesley Stahl: Are you prepared, both of you, for the lack of privacy and the intense scrutiny? And you know, first ladies are really criticized if one little hairs out of place. Are you both prepared for this?\n",
      "Melania Trump: We are used to it.\n",
      "Donald Trump: I will say, it is on a different scale now, cause Ive had a lot. But Ive never had anything like this.\n",
      "Lesley Stahl: You wont be able to walk down the street--\n",
      "Melania Trump: I didnt do that for two years already, so you know, it will just continue. Its another level, but it will continue.\n",
      "At that point, the discussion turned back to some of the thornier issues Mr. Trump faces.\n",
      "Lesley Stahl: FBI director James Comey. Are you going to ask for his resignation?\n",
      "Donald Trump: I think that I would rather not comment on that yet. I dont-- I havent made up my mind. I respect him a lot. I respect the FBI a lot. I think --\n",
      "Lesley Stahl: Even though they leak so much?\n",
      "Donald Trump: Well, theres been a lotta leaking, theres no question about that. But I would certainly like to talk to him. And see him. This is a tough time for him. And I would like to talk to him before Id answer a question like that.\n",
      "Lesley Stahl: Sounds like youre not sure.\n",
      "Donald Trump: Well, sure, Im not sure. Id wanna see, you know, he may have had very good reasons for doing what he did.\n",
      "Lesley Stahl: Are you gonna release your tax returns?\n",
      "Donald Trump: At the appropriate time, I will release them. But right now Im under routine audit. Nobody cares. The only one who cares is, you know, you and a few people that asked that question. Obviously, the public didnt care because I won the election very easily. So they dont care. I never thought they did care.\n",
      "Lesley Stahl: Now, for months, you were running around saying that the system is rigged, the whole thing was rigged. You tweeted once that the Electoral College is a disaster for democracy.\n",
      "Donald Trump: I do.\n",
      "Lesley Stahl: So do you still think its rigged?\n",
      "Donald Trump: Well, I think the electoral ca-- look, I won with the Electoral College.\n",
      "Lesley Stahl: Exactly.But do you think--\n",
      "Donald Trump: You know, its--\n",
      "Lesley Stahl: --its rigged?\n",
      "Donald Trump: Yeah, some of the election locations are. Some of the system is. I hated--\n",
      "Lesley Stahl: Even though you won youre saying that--\n",
      "Donald Trump: I hated-- well, you know, Im not going to change my mind just because I won. But I would rather see it where you went with simple votes. You know, you get 100 million votes and somebody else gets 90 million votes and you win. Theres a reason for doing this because it brings all the states into play. Electoral College and theres something very good about that. But this is a different system. But I respect it. I do respect the system.\n",
      "Lesley Stahl: What about vacations? Youre not going to take any vacations? Youve said that.\n",
      "Donald Trump: We have so much work. Theres so much work to be done. And I want to get it done for the people. I want to get it done. Were lowering taxes, were taking care of health care. I mean, theres just so much to be done. So I dont think well be very big on vacations, no.\n",
      "Lesley Stahl: Are you gonna take the salary, the presidents salary?\n",
      "Donald Trump: Well, Ive never commented on this, but the answer is no. I think I have to by law take $1, so Ill take $1 a year. But its a -- I dont even know what it is.\n",
      "Donald Trump: Do you know what the salary is?\n",
      "Lesley Stahl: $400,000 youre giving up.\n",
      "Donald Trump: No, Im not gonna take the salary. Im not taking it.\n",
      "In a moment, the Trump children join us and we will ask the president-elect where he stands on gay marriage, Obamacare, and ISIS.\n",
      "On Tuesday, Donald Trump reached deep into Americas ranks of the discouraged and neglected, a largely white constituency. They feel their America hasnt been great for a long time. And they accepted a promise to make it great again.\n",
      "But Mr. Trumps appeal wasnt just to the disaffected. A map on election night was a sea of red, as he won support across the traditionally Republican South, but also deep into what used to be the blue wall of the Midwest.\n",
      "Hillary Clinton came up short among her own supporters in large cities and affluent suburbs, among minorities and especially women. Just 51 percent of college-educated white women voted to make her the first female president. Her base didnt come with the enthusiasm and the turnout she needed to fend off Donald Trumps new and energized coalition.\n",
      "On Friday Mr. Trumps four older children  Tiffany, Donald, Jr., Eric And Ivanka -- joined us to talk about their fathers surprising victory.\n",
      "Lesley Stahl: Set the scene. Its election night. Your father-- no ones expecting him to win and it begins to dawn on you. Tell us about being in that room.\n",
      "Eric Trump: You start to see the states falling. You start seeing Florida come in and he was declared the winner. And then you saw Ohio, you saw North Carolina. You saw Pennsylvania. You saw Wisconsin. I mean, you saw all these great states  theyre all falling. And I think it was when we got Pennsylvania that we knew. And it was amazing. We were high fiving and we were all hugging as a family. And I actually think our father was the calmest of all of us even though he was really obviously the center of attention. So--\n",
      "Lesley Stahl: He went quiet is what I heard.\n",
      "Eric Trump: --its-- its--\n",
      "Lesley Stahl: --is what I heard.\n",
      "Eric Trump: --its a moment Ill never forget, I can tell you that. I mean, the team was around and everybodys cheering. And it was just-- it was-- it was a beautiful night.\n",
      "Ivanka Trump: It is hard to put into words the experience or the emotion when your father becomes president of the United States of America. We had enormous pride, joy. Its incredibly exciting. And were very grateful for the opportunity. And we take that opportunity very seriously.\n",
      "Lesley Stahl: Tiffany?\n",
      "Tiffany Trump: I mean I dont think we can really prepare for our father becoming president. But we were all there together with everyone thats worked so hard. And my dad has worked so hard. And its just  its really awe-inspiring.\n",
      "At some point that night and into the next day, calls from well-wishers started pouring in  including, Mr. Trump told us, from both ex-presidents Bush. Neither of whom supported him in the campaign.\n",
      "Lesley Stahl: What did the b=Bushes say when they called you?\n",
      "Donald Trump: Well, it was very interesting. I got a call from Father Bush, who is a wonderful man. And he just said, Congratulations. It was an amazing campaign. And then I got a call from George and he said-- Congratulations. It was great. And, you know, look, its-- its a tough situation. I went to war with Jeb. And Jebs a nice guy, but it was a nasty campaign. It was a nasty campaign. And, I mean, Im disappointed in one thing. He signed a pledge and I dont know how you sign a pledge and then you dont honor it. It was a rough primary. Its a rough primary. Although I think the general was probably just as tough. Probably as a combination, it was the roughest ever.\n",
      "Lesley Stahl: Ivanka, you said that your fathers changed in the campaign. How has he changed?\n",
      "Ivanka Trump: I think its impossible to go through this journey and not change for the better. You meet-- and in my fathers case, literally millions of Americans, and they speak to you with a candor about their struggles, their challenges. They share with you their most intimate stories. So you connect with people in a different way. And you grow.\n",
      "Lesley Stahl: Do you think your fathers changed?\n",
      "Eric Trump: I think as a family, weve changed, to tell you the truth. I mean, how big this platform is, is incredible. And I have to say, one of the most rewarding things of my life, and I can speak on behalf of really all of us, its fighting by our fathers side every single day as youve gone through a grueling, grueling process like this.\n",
      "Lesley Stahl: Don, did you discover something about your father that you didnt know before?\n",
      "Donald Trump, Jr.: You know-- we-- we know him pretty well. And weve got to, you know, be by his side for many years, both as a father and in business. So, you know-- the tenacity that hes always shown-- was just there. But it was just so much more. When I was watching him working 20-hour days, doing seven major speeches to tens of thousands of people and just saying, Well, it wasnt triage. Which state are we gonna do today, its, Were just gonna do em all. Were gonna speak to all of these people. And I think people saw that energy. They fed off that energy. That energy was so much of the movement-- that he was able to create. And, you know-- it-- it only furthered what I already knew.\n",
      "Lesley Stahl: I want to ask you all about something thats going on right now around the country. A lot of people are afraid. Theyre really afraid. African Americans think theres a target on their back. Muslims are terrified.\n",
      "Donald Trump: I think its horrible if thats happening. I think its built up by the press because, frankly, theyll take every single little incident that they can find in this country, which couldve been there before. If I werent even around doing this, and theyll make into an event because thats the way the press is.\n",
      "Lesley Stahl: Do any of you want to say anything about this fear thats out there?\n",
      "Donald Trump, Jr.: I-- I think the fears, you know, while they may be there, some fabricated, some not-- are totally unfounded.\n",
      "Lesley Stahl: One of the groups thats expressing fear are the LGBTQ group. You--\n",
      "Donald Trump: And yet I mentioned them at the Republican National Convention. And--\n",
      "Lesley Stahl: You did.\n",
      "Donald Trump: Everybody said, That was so great. I have been, you know, Ive been-a supporter.\n",
      "Lesley Stahl: Well, I guess the issue for them is marriage equality. Do you support marriage equality?\n",
      "Donald Trump: It-- its irrelevant because it was already settled. Its law. It was settled in the Supreme Court. I mean its done.\n",
      "Lesley Stahl: So even if you appoint a judge that--\n",
      "Donald Trump: Its done. It-- you have-- these cases have gone to the Supreme Court. Theyve been settled. And, Im fine with that.\n",
      "Lesley Stahl: One of the issues that has come up in the campaign is your fathers temperament. And he has himself has said, If someone insults me or says something unkind about me, Im gonna strike back. And now people are saying, Well, maybe he should kinda soften that, control that a little. What-- how do you think hes going to comport himself as president?\n",
      "Eric Trump: I think very presidential. At the same time, my father, if he needs to be a fighter, he can be a fighter. And I think this country, quite frankly, needs a fighter. And I think thats what this country elected.\n",
      "Donald Trump: They spent $1 billion against me on the word Temperament. It was given by Madison Avenue. And they thought that, by temperament, they could maybe, you know, win the election. Obviously, it didnt work because were here and theyre not. And I think my strongest asset is my temperament because I have a temperament where we win and were going to start winning again. Were going to win on trade, were going to win at the borders, were going to knock out ISIS.\n",
      "Lesley Stahl: You have said that youre gonna destroy ISIS. Now, how are you going to?\n",
      "Donald Trump: I dont tell you that. I dont tell you that.\n",
      "Lesley Stahl: Yeah, but what can --\n",
      "Donald Trump: Im not like the people going in right now and fighting Mosul and they announced it four months before they went into Mosul and everybody now is -- its a tough fight because, number one, the people from the --leaders of ISIS have left. What do you-- why do I have to tell you that?\n",
      "Lesley Stahl: Troops on the ground?\n",
      "Donald Trump: Im not gonna say anything. I dont want to tell them anything. I dont want to tell anybody anything.\n",
      "Lesley Stahl: Yeah, but what aboutthe American people.\n",
      "Donald Trump: I wanna do the job. We have some great generals. We have great generals.\n",
      "Lesley Stahl: You said you knew more than the generals about ISIS\n",
      "Donald Trump: Well, Ill be honest with you, I probably do because look at the job theyve done. OK, look at the job theyve done. They havent done the job. Now, maybe its leadership, maybe its something else. Who knows? All I can tell you is were going to get rid of ISIS.\n",
      "Lesley Stahl: Let me ask you about Obamacare, which you say youre going to repeal and replace. When you replace it, are you going to make sure that people with pre-conditions are still covered?\n",
      "Donald Trump: Yes. Because it happens to be one of the strongest assets.\n",
      "Lesley Stahl: Youre going to keep that?\n",
      "Donald Trump: Also, with the children living with their parents for an extended period, were gonna--\n",
      "Lesley Stahl: Youre gonna keep that--\n",
      "Donald Trump: Very much try and keep that. Adds cost, but its very much something were going to try and keep.\n",
      "Lesley Stahl: And theres going to be a period if you repeal it and before you replace it, when millions of people could lose - no?\n",
      "Donald Trump: No, were going to do it simultaneously. Itll be just fine. Were not going to have, like, a two-day period and were not going to have a two-year period where theres nothing. It will be repealed and replaced. And well know. And itll be great health care for much less money. So itll be better health care, much better, for less money. Not a bad combination.\n",
      "Lesley Stahl: Roles during the administration. Any of you want a job in your fathers administration? Eric Trump: So we have an amazing company. You know, one of, I think, the fortunate things for my father and our father is that he was able to step out of the company to run for commander-in-chief. And I think hes going to rely on us more than ever. And--\n",
      "Lesley Stahl: So youll stay up here?\n",
      "Eric Trump: So well-- well-- well be in New York and well take care of the business. I think were going to have a lot of fun doing it. And were going to make him very proud.\n",
      "Lesley Stahl: People think that youre going to be part of the administration, Ivanka.\n",
      "Ivanka Trump: Im-- no. Im going to be a daughter. But Ive-- Ive said throughout the campaign that I am very passionate about certain issues. And that I want to fight for them.\n",
      "Lesley Stahl: But you wont be inside--\n",
      "Ivanka Trump: Wage equality, childcare. These are things that are very important for me. Im very passionate about education. Really promoting more opportunities for women. So you know, therere a lot of things that I feel deeply, strongly about. But not in a formal administrative capacity.\n",
      "Lesley Stahl: Let me ask whether any of you think that the campaign has hurt the Trump brand.\n",
      "Ivanka Trump: I dont think it matters. This is so much more important. And more serious. And-- so th-- I-- I-- you know, thats the focus.\n",
      "Donald Trump: I think what Ivanka trying to say, Who cares? Who cares? This is big league stuff. This is-- this is our country. Our country is going bad. Were going to save our country. I dont care about hotel occupancy. Its peanuts compared to what were doing. Health care, making people better. Its unfair whats happened to the people of our country and were going to change it. As simple as that.\n",
      "Š 2016 CBS Interactive Inc. All Rights Reserved.\n",
      "####################################################################################################\n",
      "Hancock speaks a truth that most politicians don't want to hear. Credit: Audio Burst \n",
      "Graham Hancock, a British writer and journalist, has offered some amazing insight into the current election in the U.S. As some are baffled by the number of people Trump has garnered support from, others are more surprised at those willing to vote for someone as allegedly crooked as Hillary. \n",
      "Most citizens are completely over this election and can’t believe that their choices are a racist and misogynistic man who has no knowledge of political policies and a woman who is in bed with foreign regimes and domestic bankers and arms dealers, to name a few. But that is what it has come down to. \n",
      "Those in favor of Trump are increasing, and it’s not because they’re suddenly realizing that they hate people from Mexico or men with awful spray tans. As Hancock stated, \n",
      "“What’s driving [Trump supporters] in America is a deep distrust of authority and a deep distrust of anything that’s connected to the status quo. I’m not sure if politicians really got the message yet, there’s absolute revulsion at them.” \n",
      "What Hancock is essentially saying is that a vote for Trump is a vote against the politicians that have been manipulating the system for decades now. It’s an interesting view, and not something that many have considered as they hear the awful words that come of some Trump supporter’s mouths. This movement against the establishment was primarily led by Bernie Sanders, but since he is out of the race, the torch has been somewhat handed to Trump. Hancock went on to say: \n",
      "“It’s a vote against the system that has failed Americans again and again and again…. It’s a global system of control. I think people are aware of that, I think they’re fed up, and I think they want change. Trump is getting support because he’s certainly not part of that. He looks different, he sounds different, he feels different. Bernie Sanders got a lot of support for the same reason. They were saying different things, but both of them were anti-establishment figures. That’s what’s going on here, the establishment itself is losing its grip. We are seeing a kind of crazy chaos resulting from that. We will sort it out; human beings are capable of sorting things out. We don’t need leaders to sort things out, we can sort things out themselves.” \n",
      "Despite this chaos, Hancock views this disillusionment and serious shift as a positive thing and a sign of progress. Now that people are more aware of what is occurring within politics, hopefully the conditions can only improve with each election. \n",
      "Watch Graham Hancock speak with London Real below: \n",
      "What are your thoughts on Hancock’s comments?   Graham Hancock Explains Why So Many People Are Pro-Trump And Anti-Establishment  \n",
      "####################################################################################################\n"
     ]
    }
   ],
   "source": [
    "most_similar_df = train_df[train_df.index.isin(most_sim_ids)]\n",
    "for title in most_similar_df.text.tolist():\n",
    "    print title\n",
    "    print \"#\"*100"
   ]
  },
  {
   "cell_type": "code",
   "execution_count": 103,
   "metadata": {},
   "outputs": [
    {
     "data": {
      "image/png": "[encoded data removed]",
      "text/plain": [
       "<matplotlib.figure.Figure at 0x149bfbfd0>"
      ]
     },
     "metadata": {},
     "output_type": "display_data"
    }
   ],
   "source": [
    "fig, ax = plt.subplots(figsize=(12,6));\n",
    "patches = ax.bar(np.arange(len(new_doc_distribution)), doc_topic_dist[289])\n",
    "ax.set_xlabel('Topic ID', fontsize=15)\n",
    "ax.set_ylabel('Topic Contribution', fontsize=15)\n",
    "ax.set_title(\"Topic Distribution for an Unseen Article\", fontsize=20)\n",
    "ax.set_xticks(np.linspace(10,100,10))\n",
    "fig.tight_layout()\n",
    "plt.show()"
   ]
  },
  {
   "cell_type": "code",
   "execution_count": null,
   "metadata": {},
   "outputs": [],
   "source": []
  },
  {
   "cell_type": "markdown",
   "metadata": {},
   "source": [
    "# DOC2VEC Training"
   ]
  },
  {
   "cell_type": "code",
   "execution_count": 118,
   "metadata": {},
   "outputs": [],
   "source": [
    "from gensim.models import doc2vec\n",
    "from collections import namedtuple"
   ]
  },
  {
   "cell_type": "code",
   "execution_count": 119,
   "metadata": {},
   "outputs": [],
   "source": [
    "tagged_docs = []\n",
    "analyzedDocument = namedtuple('AnalyzedDocument', 'words tags')"
   ]
  },
  {
   "cell_type": "code",
   "execution_count": 120,
   "metadata": {},
   "outputs": [],
   "source": [
    "for ind, tokens in enumerate(train_df['tokenized'].tolist()):\n",
    "    tags = [ind]\n",
    "    tagged_docs.append(analyzedDocument(tokens, tags))"
   ]
  },
  {
   "cell_type": "code",
   "execution_count": 121,
   "metadata": {},
   "outputs": [
    {
     "name": "stderr",
     "output_type": "stream",
     "text": [
      "/usr/local/lib/python2.7/site-packages/gensim/models/doc2vec.py:570: UserWarning: The parameter `size` is deprecated, will be removed in 4.0.0, use `vector_size` instead.\n",
      "  warnings.warn(\"The parameter `size` is deprecated, will be removed in 4.0.0, use `vector_size` instead.\")\n"
     ]
    },
    {
     "name": "stdout",
     "output_type": "stream",
     "text": [
      "CPU times: user 10min 38s, sys: 2.2 s, total: 10min 41s\n",
      "Wall time: 2min 53s\n"
     ]
    }
   ],
   "source": [
    "%%time\n",
    "model = doc2vec.Doc2Vec(tagged_docs, size = 100, window = 300, workers = 4)"
   ]
  },
  {
   "cell_type": "code",
   "execution_count": 123,
   "metadata": {},
   "outputs": [
    {
     "data": {
      "text/plain": [
       "[(2500, 0.541205644607544),\n",
       " (6434, 0.5299692749977112),\n",
       " (9936, 0.5255742073059082),\n",
       " (3866, 0.513481855392456),\n",
       " (3828, 0.4958406686782837),\n",
       " (3083, 0.4937802255153656),\n",
       " (7310, 0.49006032943725586),\n",
       " (5220, 0.4874812662601471),\n",
       " (4183, 0.48325178027153015),\n",
       " (8481, 0.48033422231674194)]"
      ]
     },
     "execution_count": 123,
     "metadata": {},
     "output_type": "execute_result"
    }
   ],
   "source": [
    "model.docvecs.most_similar(8127)"
   ]
  },
  {
   "cell_type": "code",
   "execution_count": 127,
   "metadata": {},
   "outputs": [
    {
     "name": "stdout",
     "output_type": "stream",
     "text": [
      "0 comments \n",
      "Well, here’s a lesson for ya! Comedy and politics DON’T mix! So if you’re a comedian and you want to be successful- don’t bring politics into your act! Seriously, it just kills the mood, no one will be up to laughing after you insult them over who they are supporting for President, or whether or not they view abortion as murder. \n",
      "Who would find any humor in that? \n",
      "This should be common sense, but for Amy Schumer …twas not. Now she’s learning the hard way, what many of us were warning her about for a while now! \n",
      "According to AdWeek, Budweiser came in under expected profits in their third quarter, prompting the company to pull the Schumer ads ahead of schedule. The ads themselves were not at all doing well, and the last one received such negative attention on YouTube that it currently has more than 1,900 “thumbs down,” compared to only 300 “thumbs up.” \n",
      "Fox News reported that, at one time, the YouTube video had comments disabled, but that has since been changed. Many comments are negative toward Schumer herself, who has recently been in traveling around promoting feminist ideals and social justice causes. \n",
      "Schumer’s attitude on politics has alienated many people over the past few years, however. Many would say that the comedian’s negative views on men, and hypocritical outrage, is often in complete contrast with inclusivity. This could have further attributed to the decline in Bud Light’s sales, as having a wildly unpopular figure represent your product will devalue it to the public. \n",
      "Sorry Schumer. Either be a comedian, or a social justice warrior…the two however, do not play well together. Somewhere along the line you got that very obvious truth, twisted. Related Items\n"
     ]
    }
   ],
   "source": [
    "print train_df.iloc[6434, 3]"
   ]
  },
  {
   "cell_type": "code",
   "execution_count": 73,
   "metadata": {},
   "outputs": [],
   "source": [
    "df['new_check'] = df.uuid.copy()"
   ]
  },
  {
   "cell_type": "code",
   "execution_count": 126,
   "metadata": {},
   "outputs": [
    {
     "data": {
      "text/plain": [
       "RangeIndex(start=0, stop=10824, step=1)"
      ]
     },
     "execution_count": 126,
     "metadata": {},
     "output_type": "execute_result"
    }
   ],
   "source": [
    "train_df.index"
   ]
  },
  {
   "cell_type": "code",
   "execution_count": null,
   "metadata": {},
   "outputs": [],
   "source": []
  }
 ],
 "metadata": {
  "kernelspec": {
   "display_name": "Python 2",
   "language": "python",
   "name": "python2"
  },
  "language_info": {
   "codemirror_mode": {
    "name": "ipython",
    "version": 2
   },
   "file_extension": ".py",
   "mimetype": "text/x-python",
   "name": "python",
   "nbconvert_exporter": "python",
   "pygments_lexer": "ipython2",
   "version": "2.7.15"
  }
 },
 "nbformat": 4,
 "nbformat_minor": 2
}
